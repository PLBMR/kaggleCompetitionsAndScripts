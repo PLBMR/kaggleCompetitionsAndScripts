{
 "cells": [
  {
   "cell_type": "markdown",
   "metadata": {},
   "source": [
    "# Modeling: Neural Nets\n",
    "\n",
    "_By [Michael Rosenberg](mailto:rosenberg.michael.m@gmail.com)._\n",
    "\n",
    "_**Description**: Contains my methods for modeling the data-generating process via neural nets._\n",
    "\n",
    "_Last Updated: 9/11/2017 11:01 PM._"
   ]
  },
  {
   "cell_type": "code",
   "execution_count": 1,
   "metadata": {
    "collapsed": false
   },
   "outputs": [
    {
     "name": "stderr",
     "output_type": "stream",
     "text": [
      "Using Theano backend.\n"
     ]
    }
   ],
   "source": [
    "#imports\n",
    "import pandas as pd\n",
    "import pickle as pkl\n",
    "import numpy as np\n",
    "import scipy as sp\n",
    "import keras as kr\n",
    "import matplotlib.pyplot as plt\n",
    "import seaborn as sns\n",
    "\n",
    "#helpers\n",
    "sigLev = 3\n",
    "alphaLev = 3\n",
    "percentLev = 100\n",
    "%matplotlib inline\n",
    "sns.set_style(\"whitegrid\")\n",
    "pd.set_option(\"display.precision\",sigLev)"
   ]
  },
  {
   "cell_type": "code",
   "execution_count": 2,
   "metadata": {
    "collapsed": true
   },
   "outputs": [],
   "source": [
    "dataDict = pkl.load(open(\"../data/processed/processedData.pkl\"))\n",
    "trainFeatureMat = dataDict[\"train\"][\"featureMat\"]\n",
    "trainTargetFrame = dataDict[\"train\"][\"target\"]\n",
    "testFeatureMat = dataDict[\"test\"][\"featureMat\"]\n",
    "testTargetFrame = dataDict[\"test\"][\"target\"]"
   ]
  },
  {
   "cell_type": "markdown",
   "metadata": {},
   "source": [
    "# Recap\n",
    "\n",
    "As part of our [initial modeling](initialModeling.ipynb), we found that a dataset with 4 layers, 3 epochs, and relu activations generally worked the best. Let's try to replicate that performance here."
   ]
  },
  {
   "cell_type": "code",
   "execution_count": 3,
   "metadata": {
    "collapsed": true
   },
   "outputs": [],
   "source": [
    "initNet = kr.models.Sequential()\n",
    "initNet.add(kr.layers.Dense(100,input_dim = trainFeatureMat.shape[1],\n",
    "                activation = \"relu\"))\n",
    "initNet.add(kr.layers.Dense(50,activation = \"relu\"))\n",
    "initNet.add(kr.layers.Dense(25,activation = \"sigmoid\"))\n",
    "initNet.add(kr.layers.Dense(1,activation = \"linear\"))"
   ]
  },
  {
   "cell_type": "code",
   "execution_count": 4,
   "metadata": {
    "collapsed": false
   },
   "outputs": [],
   "source": [
    "initNet.compile(loss = \"mean_squared_error\",optimizer = \"adam\",\n",
    "              metrics = [\"accuracy\"])"
   ]
  },
  {
   "cell_type": "code",
   "execution_count": 5,
   "metadata": {
    "collapsed": false
   },
   "outputs": [
    {
     "name": "stdout",
     "output_type": "stream",
     "text": [
      "Epoch 1/3\n",
      "1458643/1458643 [==============================] - 195s - loss: 0.3711 - acc: 0.0000e+00   \n",
      "Epoch 2/3\n",
      "1458643/1458643 [==============================] - 225s - loss: 0.4691 - acc: 0.0000e+00   \n",
      "Epoch 3/3\n",
      "1458643/1458643 [==============================] - 276s - loss: 0.6403 - acc: 0.0000e+00   \n"
     ]
    },
    {
     "data": {
      "text/plain": [
       "<keras.callbacks.History at 0x11090dc50>"
      ]
     },
     "execution_count": 5,
     "metadata": {},
     "output_type": "execute_result"
    }
   ],
   "source": [
    "initNet.fit(trainFeatureMat.toarray(),\n",
    "            np.array(trainTargetFrame[\"logTripDuration\"]),\n",
    "            epochs = 3)"
   ]
  },
  {
   "cell_type": "code",
   "execution_count": 6,
   "metadata": {
    "collapsed": false
   },
   "outputs": [
    {
     "data": {
      "text/plain": [
       "(625134, 1101)"
      ]
     },
     "execution_count": 6,
     "metadata": {},
     "output_type": "execute_result"
    }
   ],
   "source": [
    "testFeatureMat.shape"
   ]
  },
  {
   "cell_type": "code",
   "execution_count": 7,
   "metadata": {
    "collapsed": false
   },
   "outputs": [],
   "source": [
    "testTargetFrame[\"logTripDuration\"] = initNet.predict(testFeatureMat.toarray())\n",
    "testTargetFrame[\"trip_duration\"] = np.exp(testTargetFrame[\"logTripDuration\"])"
   ]
  },
  {
   "cell_type": "code",
   "execution_count": 8,
   "metadata": {
    "collapsed": true
   },
   "outputs": [],
   "source": [
    "exportFrame = testTargetFrame[[\"id\",\"trip_duration\"]]\n",
    "exportFrame.to_csv(\"../data/processed/predictions/initNNPredictions.csv\",\n",
    "                   index = False)"
   ]
  },
  {
   "cell_type": "markdown",
   "metadata": {},
   "source": [
    "That helped us to some degree! Let's see how well we perform when we add another layer and another epoch, with an elu at the end."
   ]
  },
  {
   "cell_type": "code",
   "execution_count": 42,
   "metadata": {
    "collapsed": true
   },
   "outputs": [],
   "source": [
    "initNet = kr.models.Sequential()\n",
    "initNet.add(kr.layers.Dense(100,input_dim = trainFeatureMat.shape[1],\n",
    "                           activation = \"relu\"))\n",
    "initNet.add(kr.layers.Dense(50,activation = \"elu\"))\n",
    "initNet.add(kr.layers.Dense(25,activation = \"sigmoid\"))\n",
    "initNet.add(kr.layers.Dense(1,activation = \"linear\"))"
   ]
  },
  {
   "cell_type": "code",
   "execution_count": 43,
   "metadata": {
    "collapsed": true
   },
   "outputs": [],
   "source": [
    "initNet.compile(loss = \"mean_squared_error\",optimizer = \"adam\",\n",
    "              metrics = [\"accuracy\"])"
   ]
  },
  {
   "cell_type": "code",
   "execution_count": 44,
   "metadata": {
    "collapsed": false
   },
   "outputs": [
    {
     "name": "stdout",
     "output_type": "stream",
     "text": [
      "Epoch 1/4\n",
      "1458643/1458643 [==============================] - 198s - loss: 0.2615 - acc: 0.0000e+00   \n",
      "Epoch 2/4\n",
      "1458643/1458643 [==============================] - 223s - loss: 0.2052 - acc: 0.0000e+00   \n",
      "Epoch 3/4\n",
      "1458643/1458643 [==============================] - 272s - loss: 0.2032 - acc: 0.0000e+00   \n",
      "Epoch 4/4\n",
      "1458643/1458643 [==============================] - 274s - loss: 0.2013 - acc: 0.0000e+00   \n"
     ]
    },
    {
     "data": {
      "text/plain": [
       "<keras.callbacks.History at 0x123d5a210>"
      ]
     },
     "execution_count": 44,
     "metadata": {},
     "output_type": "execute_result"
    }
   ],
   "source": [
    "initNet.fit(trainFeatureMat.toarray(),\n",
    "            np.array(trainTargetFrame[\"logTripDuration\"]),\n",
    "            epochs = 4)"
   ]
  },
  {
   "cell_type": "code",
   "execution_count": 45,
   "metadata": {
    "collapsed": true
   },
   "outputs": [],
   "source": [
    "testTargetFrame[\"logTripDuration\"] = initNet.predict(testFeatureMat.toarray())\n",
    "testTargetFrame[\"trip_duration\"] = np.exp(testTargetFrame[\"logTripDuration\"])"
   ]
  },
  {
   "cell_type": "code",
   "execution_count": 46,
   "metadata": {
    "collapsed": true
   },
   "outputs": [],
   "source": [
    "exportFrame = testTargetFrame[[\"id\",\"trip_duration\"]]\n",
    "exportFrame.to_csv(\"../data/processed/predictions/nextNNPredictions.csv\",\n",
    "                   index = False)"
   ]
  },
  {
   "cell_type": "code",
   "execution_count": null,
   "metadata": {
    "collapsed": true
   },
   "outputs": [],
   "source": []
  }
 ],
 "metadata": {
  "kernelspec": {
   "display_name": "Python 2",
   "language": "python",
   "name": "python2"
  },
  "language_info": {
   "codemirror_mode": {
    "name": "ipython",
    "version": 2
   },
   "file_extension": ".py",
   "mimetype": "text/x-python",
   "name": "python",
   "nbconvert_exporter": "python",
   "pygments_lexer": "ipython2",
   "version": "2.7.10"
  },
  "latex_envs": {
   "bibliofile": "biblio.bib",
   "cite_by": "apalike",
   "current_citInitial": 1,
   "eqLabelWithNumbers": true,
   "eqNumInitial": 0
  },
  "nav_menu": {},
  "toc": {
   "navigate_menu": true,
   "number_sections": true,
   "sideBar": true,
   "threshold": 6,
   "toc_cell": false,
   "toc_section_display": "block",
   "toc_window_display": false
  }
 },
 "nbformat": 4,
 "nbformat_minor": 2
}
