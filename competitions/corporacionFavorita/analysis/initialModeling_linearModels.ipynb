{
 "cells": [
  {
   "cell_type": "markdown",
   "metadata": {},
   "source": [
    "# Initial Modeling: Linear Models\n",
    "\n",
    "_By [Michael Rosenberg](mailto:rosenberg.michael.m@gmail.com)._\n",
    "\n",
    "_**Description**: Contains my initial modeling related to Linear Models for the [Corporacion Favorita Grocery Sales Forecasting Competition](https://www.kaggle.com/c/favorita-grocery-sales-forecasting)._\n",
    "\n",
    "_**Language Used**: [Python](https://www.python.org)._\n",
    "\n",
    "_Last Updated: 10/22/2017 9:43 AM EST._"
   ]
  },
  {
   "cell_type": "code",
   "execution_count": 13,
   "metadata": {
    "ExecuteTime": {
     "end_time": "2017-10-22T14:19:50.842889Z",
     "start_time": "2017-10-22T10:19:50.703641-04:00"
    },
    "collapsed": false
   },
   "outputs": [
    {
     "name": "stdout",
     "output_type": "stream",
     "text": [
      "Checking whether there is an H2O instance running at http://localhost:24601. connected.\n",
      "Warning: Your H2O cluster version is too old (5 months)! Please download and install the latest version from http://h2o.ai/download/\n"
     ]
    },
    {
     "data": {
      "text/html": [
       "<div style=\"overflow:auto\"><table style=\"width:50%\"><tr><td>H2O cluster uptime:</td>\n",
       "<td>28 mins 28 secs</td></tr>\n",
       "<tr><td>H2O cluster version:</td>\n",
       "<td>3.10.4.8</td></tr>\n",
       "<tr><td>H2O cluster version age:</td>\n",
       "<td>5 months !!!</td></tr>\n",
       "<tr><td>H2O cluster name:</td>\n",
       "<td>H2O_from_python_michaelrosenberg_cjn4ec</td></tr>\n",
       "<tr><td>H2O cluster total nodes:</td>\n",
       "<td>1</td></tr>\n",
       "<tr><td>H2O cluster free memory:</td>\n",
       "<td>3.540 Gb</td></tr>\n",
       "<tr><td>H2O cluster total cores:</td>\n",
       "<td>4</td></tr>\n",
       "<tr><td>H2O cluster allowed cores:</td>\n",
       "<td>4</td></tr>\n",
       "<tr><td>H2O cluster status:</td>\n",
       "<td>locked, healthy</td></tr>\n",
       "<tr><td>H2O connection url:</td>\n",
       "<td>http://localhost:24601</td></tr>\n",
       "<tr><td>H2O connection proxy:</td>\n",
       "<td>None</td></tr>\n",
       "<tr><td>H2O internal security:</td>\n",
       "<td>False</td></tr>\n",
       "<tr><td>Python version:</td>\n",
       "<td>2.7.10 final</td></tr></table></div>"
      ],
      "text/plain": [
       "--------------------------  ---------------------------------------\n",
       "H2O cluster uptime:         28 mins 28 secs\n",
       "H2O cluster version:        3.10.4.8\n",
       "H2O cluster version age:    5 months !!!\n",
       "H2O cluster name:           H2O_from_python_michaelrosenberg_cjn4ec\n",
       "H2O cluster total nodes:    1\n",
       "H2O cluster free memory:    3.540 Gb\n",
       "H2O cluster total cores:    4\n",
       "H2O cluster allowed cores:  4\n",
       "H2O cluster status:         locked, healthy\n",
       "H2O connection url:         http://localhost:24601\n",
       "H2O connection proxy:\n",
       "H2O internal security:      False\n",
       "Python version:             2.7.10 final\n",
       "--------------------------  ---------------------------------------"
      ]
     },
     "metadata": {},
     "output_type": "display_data"
    }
   ],
   "source": [
    "#imports\n",
    "import pandas as pd\n",
    "import numpy as np\n",
    "import h2o\n",
    "from h2o.estimators.glm import H2OGeneralizedLinearEstimator as h2oglm\n",
    "from sklearn import preprocessing as pp\n",
    "import scipy as sp\n",
    "\n",
    "#initialize h2o\n",
    "whoami = 24601\n",
    "h2o.init(port = whoami)\n",
    "\n",
    "#helpers\n",
    "sigLev = 3\n",
    "pd.options.display.precision = sigLev"
   ]
  },
  {
   "cell_type": "code",
   "execution_count": 3,
   "metadata": {
    "ExecuteTime": {
     "end_time": "2017-10-22T14:04:59.687761Z",
     "start_time": "2017-10-22T10:02:59.268458-04:00"
    },
    "collapsed": true
   },
   "outputs": [],
   "source": [
    "#load in data\n",
    "trainFrame = pd.read_csv(\"../data/preprocessed/train_splitObs.csv\")\n",
    "validationFrame = pd.read_csv(\"../data/preprocessed/validation_splitObs.csv\")\n",
    "testFrame = pd.read_csv(\"../data/preprocessed/test.csv\")"
   ]
  },
  {
   "cell_type": "markdown",
   "metadata": {},
   "source": [
    "# Data preprocessing\n",
    "\n",
    "We need to do some slight preprocessing of our training and validation sets before building our initial models."
   ]
  },
  {
   "cell_type": "code",
   "execution_count": 5,
   "metadata": {
    "ExecuteTime": {
     "end_time": "2017-10-22T14:05:58.948277Z",
     "start_time": "2017-10-22T10:05:56.808501-04:00"
    },
    "collapsed": false
   },
   "outputs": [],
   "source": [
    "#0 out observations with negative retursn\n",
    "trainFrame.loc[trainFrame[\"unit_sales\"] < 0,\"unit_sales\"] = 0\n",
    "validationFrame.loc[validationFrame[\"unit_sales\"] < 0,\"unit_sales\"] = 0"
   ]
  },
  {
   "cell_type": "code",
   "execution_count": 6,
   "metadata": {
    "ExecuteTime": {
     "end_time": "2017-10-22T14:06:40.581356Z",
     "start_time": "2017-10-22T10:06:37.977452-04:00"
    },
    "collapsed": true
   },
   "outputs": [],
   "source": [
    "#then get log sales\n",
    "trainFrame[\"logUnitSales\"] = np.log(trainFrame[\"unit_sales\"] + 1)\n",
    "validationFrame[\"logUnitSales\"] = np.log(validationFrame[\"unit_sales\"] + 1)"
   ]
  },
  {
   "cell_type": "markdown",
   "metadata": {},
   "source": [
    "# Predict with fixed effects\n",
    "\n",
    "Let's try the simplest model: One with store fixed effects and item ID fixed effects."
   ]
  },
  {
   "cell_type": "code",
   "execution_count": 11,
   "metadata": {
    "ExecuteTime": {
     "end_time": "2017-10-22T14:18:28.785541Z",
     "start_time": "2017-10-22T10:17:38.583453-04:00"
    },
    "collapsed": false
   },
   "outputs": [],
   "source": [
    "#get store encodings\n",
    "storeEncoder = pp.OneHotEncoder()\n",
    "storeEncodings = storeEncoder.fit_transform(\n",
    "                                trainFrame[\"store_nbr\"].values.reshape(-1,1))\n",
    "#get names\n",
    "featureNameList = [\"store_nbr_\" + str(i) \n",
    "                   for i in storeEncoder.active_features_]\n",
    "#initialize feature matrix\n",
    "featureMat = storeEncodings"
   ]
  },
  {
   "cell_type": "code",
   "execution_count": 14,
   "metadata": {
    "ExecuteTime": {
     "end_time": "2017-10-22T14:21:07.810036Z",
     "start_time": "2017-10-22T10:19:52.769518-04:00"
    },
    "collapsed": false
   },
   "outputs": [],
   "source": [
    "#then get item encodings\n",
    "itemEncoder = pp.OneHotEncoder()\n",
    "itemEncodings = itemEncoder.fit_transform(\n",
    "                            trainFrame[\"item_nbr\"].values.reshape(-1,1))\n",
    "itemNameList = [\"item_nbr_\" + str(i) for i in itemEncoder.active_features_]\n",
    "#add information to features\n",
    "featureNameList.extend(itemNameList)\n",
    "featureMat = sp.sparse.hstack((featureMat,itemEncodings))"
   ]
  },
  {
   "cell_type": "code",
   "execution_count": null,
   "metadata": {
    "collapsed": true
   },
   "outputs": [],
   "source": [
    "#then append our log-sales to the regression\n",
    "logSalesMat = sp.sparse.csc_"
   ]
  }
 ],
 "metadata": {
  "kernelspec": {
   "display_name": "Python 2",
   "language": "python",
   "name": "python2"
  },
  "language_info": {
   "codemirror_mode": {
    "name": "ipython",
    "version": 2
   },
   "file_extension": ".py",
   "mimetype": "text/x-python",
   "name": "python",
   "nbconvert_exporter": "python",
   "pygments_lexer": "ipython2",
   "version": "2.7.10"
  },
  "latex_envs": {
   "bibliofile": "biblio.bib",
   "cite_by": "apalike",
   "current_citInitial": 1,
   "eqLabelWithNumbers": true,
   "eqNumInitial": 0
  },
  "nav_menu": {},
  "toc": {
   "navigate_menu": true,
   "number_sections": true,
   "sideBar": true,
   "threshold": 6,
   "toc_cell": false,
   "toc_section_display": "block",
   "toc_window_display": false
  }
 },
 "nbformat": 4,
 "nbformat_minor": 2
}
