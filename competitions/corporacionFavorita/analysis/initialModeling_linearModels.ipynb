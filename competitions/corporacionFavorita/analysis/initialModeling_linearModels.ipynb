{
 "cells": [
  {
   "cell_type": "markdown",
   "metadata": {},
   "source": [
    "# Initial Modeling: Linear Models\n",
    "\n",
    "_By [Michael Rosenberg](mailto:rosenberg.michael.m@gmail.com)._\n",
    "\n",
    "_**Description**: Contains my initial modeling related to Linear Models for the [Corporacion Favorita Grocery Sales Forecasting Competition](https://www.kaggle.com/c/favorita-grocery-sales-forecasting)._\n",
    "\n",
    "_**Language Used**: [Python](https://www.python.org)._\n",
    "\n",
    "_Last Updated: 10/22/2017 9:43 AM EST._"
   ]
  },
  {
   "cell_type": "code",
   "execution_count": 11,
   "metadata": {
    "ExecuteTime": {
     "end_time": "2017-10-22T15:51:14.228799Z",
     "start_time": "2017-10-22T11:51:12.374778-04:00"
    },
    "collapsed": false
   },
   "outputs": [],
   "source": [
    "#imports\n",
    "import pandas as pd\n",
    "import numpy as np\n",
    "#import h2o\n",
    "#from h2o.estimators.glm import H2OGeneralizedLinearEstimator as h2oglm\n",
    "from sklearn import preprocessing as pp\n",
    "import scipy as sp\n",
    "from sklearn import linear_model as lm\n",
    "\n",
    "#initialize h2o\n",
    "#whoami = 24601\n",
    "#h2o.init(port = whoami)\n",
    "\n",
    "#helpers\n",
    "sigLev = 3\n",
    "pd.options.display.precision = sigLev"
   ]
  },
  {
   "cell_type": "code",
   "execution_count": 5,
   "metadata": {
    "ExecuteTime": {
     "end_time": "2017-10-22T15:53:27.211747Z",
     "start_time": "2017-10-22T11:51:32.005955-04:00"
    },
    "collapsed": false
   },
   "outputs": [],
   "source": [
    "#load in data\n",
    "trainFrame = pd.read_csv(\"../data/preprocessed/train_splitObs.csv\")\n",
    "validationFrame = pd.read_csv(\"../data/preprocessed/validation_splitObs.csv\")\n",
    "testFrame = pd.read_csv(\"../data/preprocessed/test.csv\")"
   ]
  },
  {
   "cell_type": "markdown",
   "metadata": {},
   "source": [
    "# Data preprocessing\n",
    "\n",
    "We need to do some slight preprocessing of our training and validation sets before building our initial models."
   ]
  },
  {
   "cell_type": "code",
   "execution_count": 6,
   "metadata": {
    "ExecuteTime": {
     "end_time": "2017-10-22T15:53:30.367465Z",
     "start_time": "2017-10-22T11:53:27.214022-04:00"
    },
    "collapsed": false
   },
   "outputs": [],
   "source": [
    "#0 out observations with negative retursn\n",
    "trainFrame.loc[trainFrame[\"unit_sales\"] < 0,\"unit_sales\"] = 0\n",
    "validationFrame.loc[validationFrame[\"unit_sales\"] < 0,\"unit_sales\"] = 0"
   ]
  },
  {
   "cell_type": "code",
   "execution_count": 7,
   "metadata": {
    "ExecuteTime": {
     "end_time": "2017-10-22T15:53:33.220206Z",
     "start_time": "2017-10-22T11:53:30.369209-04:00"
    },
    "collapsed": true
   },
   "outputs": [],
   "source": [
    "#then get log sales\n",
    "trainFrame[\"logUnitSales\"] = np.log(trainFrame[\"unit_sales\"] + 1)\n",
    "validationFrame[\"logUnitSales\"] = np.log(validationFrame[\"unit_sales\"] + 1)"
   ]
  },
  {
   "cell_type": "markdown",
   "metadata": {},
   "source": [
    "# Predict with fixed effects\n",
    "\n",
    "Let's try the simplest model: One with store fixed effects and item ID fixed effects."
   ]
  },
  {
   "cell_type": "code",
   "execution_count": 12,
   "metadata": {
    "ExecuteTime": {
     "end_time": "2017-10-22T15:54:24.358094Z",
     "start_time": "2017-10-22T11:53:33.221988-04:00"
    },
    "collapsed": false
   },
   "outputs": [],
   "source": [
    "#get store encodings\n",
    "storeEncoder = pp.OneHotEncoder()\n",
    "storeEncodings = storeEncoder.fit_transform(\n",
    "                                trainFrame[\"store_nbr\"].values.reshape(-1,1))\n",
    "#get names\n",
    "featureNameList = [\"store_nbr_\" + str(i) \n",
    "                   for i in storeEncoder.active_features_]\n",
    "#initialize feature matrix\n",
    "featureMat = storeEncodings"
   ]
  },
  {
   "cell_type": "code",
   "execution_count": 13,
   "metadata": {
    "ExecuteTime": {
     "end_time": "2017-10-22T15:55:55.496767Z",
     "start_time": "2017-10-22T11:54:24.361700-04:00"
    },
    "collapsed": false
   },
   "outputs": [],
   "source": [
    "#then get item encodings\n",
    "itemEncoder = pp.OneHotEncoder()\n",
    "itemEncodings = itemEncoder.fit_transform(\n",
    "                            trainFrame[\"item_nbr\"].values.reshape(-1,1))\n",
    "itemNameList = [\"item_nbr_\" + str(i) for i in itemEncoder.active_features_]\n",
    "#add information to features\n",
    "featureNameList.extend(itemNameList)\n",
    "featureMat = sp.sparse.hstack((featureMat,itemEncodings))"
   ]
  },
  {
   "cell_type": "code",
   "execution_count": 17,
   "metadata": {
    "ExecuteTime": {
     "start_time": "2017-10-22T15:51:36.417Z"
    },
    "collapsed": true
   },
   "outputs": [],
   "source": [
    "#then append our log-sales to the regression\n",
    "logSalesMat = trainFrame[\"logUnitSales\"].values\n",
    "#add information to feature"
   ]
  },
  {
   "cell_type": "code",
   "execution_count": 18,
   "metadata": {
    "collapsed": false
   },
   "outputs": [
    {
     "data": {
      "text/plain": [
       "SGDRegressor(alpha=0, average=False, epsilon=0.1, eta0=0.01,\n",
       "       fit_intercept=True, l1_ratio=0.15, learning_rate='invscaling',\n",
       "       loss='squared_loss', n_iter=5, penalty='l2', power_t=0.25,\n",
       "       random_state=None, shuffle=True, verbose=0, warm_start=False)"
      ]
     },
     "execution_count": 18,
     "metadata": {},
     "output_type": "execute_result"
    }
   ],
   "source": [
    "initLinearReg = lm.SGDRegressor(alpha = 0,n_iter = 5)\n",
    "initLinearReg.fit(featureMat,logSalesMat)"
   ]
  },
  {
   "cell_type": "code",
   "execution_count": 24,
   "metadata": {
    "collapsed": false
   },
   "outputs": [],
   "source": [
    "#get features for test frame\n",
    "testStoreEncodings = storeEncoder.transform(testFrame[\"store_nbr\"].values.reshape(-1,1))\n",
    "featureMat = testStoreEncodings\n",
    "#change some information in the test frame\n",
    "alteredTestFrame = testFrame.copy()\n",
    "alteredTestFrame.loc[~(alteredTestFrame[\"item_nbr\"].isin(\n",
    "                        list(trainFrame[\"item_nbr\"].unique()))),\"item_nbr\"] = trainFrame[\"item_nbr\"].unique()[0]\n",
    "testItemEncodings = itemEncoder.transform(alteredTestFrame[\"item_nbr\"].values.reshape(-1,1))\n",
    "featureMat = sp.sparse.hstack((featureMat,testItemEncodings))"
   ]
  },
  {
   "cell_type": "code",
   "execution_count": 27,
   "metadata": {
    "collapsed": false
   },
   "outputs": [],
   "source": [
    "#then predict\n",
    "testFrame[\"logPredictions\"] = initLinearReg.predict(featureMat)\n",
    "testFrame[\"unit_sales\"] = np.exp(testFrame[\"logPredictions\"]) - 1\n",
    "exportFrame = testFrame[[\"id\",\"unit_sales\"]]"
   ]
  },
  {
   "cell_type": "code",
   "execution_count": 28,
   "metadata": {
    "collapsed": true
   },
   "outputs": [],
   "source": [
    "exportFrame.to_csv(\"../data/processed/initPredictions.csv\",index = False)"
   ]
  },
  {
   "cell_type": "markdown",
   "metadata": {},
   "source": [
    "We see this puts us in the top $78\\%$. This isn't awful, but we could do better!"
   ]
  },
  {
   "cell_type": "markdown",
   "metadata": {},
   "source": [
    "# Replace item fixed effects"
   ]
  }
 ],
 "metadata": {
  "anaconda-cloud": {},
  "kernelspec": {
   "display_name": "Python [Root]",
   "language": "python",
   "name": "Python [Root]"
  },
  "language_info": {
   "codemirror_mode": {
    "name": "ipython",
    "version": 3
   },
   "file_extension": ".py",
   "mimetype": "text/x-python",
   "name": "python",
   "nbconvert_exporter": "python",
   "pygments_lexer": "ipython3",
   "version": "3.5.2"
  },
  "latex_envs": {
   "bibliofile": "biblio.bib",
   "cite_by": "apalike",
   "current_citInitial": 1,
   "eqLabelWithNumbers": true,
   "eqNumInitial": 0
  },
  "nav_menu": {},
  "toc": {
   "navigate_menu": true,
   "number_sections": true,
   "sideBar": true,
   "threshold": 6,
   "toc_cell": false,
   "toc_section_display": "block",
   "toc_window_display": false
  }
 },
 "nbformat": 4,
 "nbformat_minor": 2
}
