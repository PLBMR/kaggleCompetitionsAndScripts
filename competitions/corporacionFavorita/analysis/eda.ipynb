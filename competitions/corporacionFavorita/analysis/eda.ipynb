{
 "cells": [
  {
   "cell_type": "markdown",
   "metadata": {},
   "source": [
    "# Corporacion Favorita: Exploratory Data Analysis\n",
    "\n",
    "_By [Michael Rosenberg](mailto:rosenberg.michael.m@gmail.com)._\n",
    "\n",
    "_**Description**: Contains my exploratory work on the data provided in the [Corporacio Favorite Grocery Sales Competition](https://www.kaggle.com/c/favorita-grocery-sales-forecasting)._\n",
    "\n",
    "_**Language Used**: [Julia](https://julialang.org)._\n",
    "\n",
    "_Last Updated: 10/21/2017 9:30 PM EST._"
   ]
  },
  {
   "cell_type": "code",
   "execution_count": 4,
   "metadata": {
    "collapsed": false
   },
   "outputs": [
    {
     "name": "stderr",
     "output_type": "stream",
     "text": [
      "\u001b[1m\u001b[36mINFO: \u001b[39m\u001b[22m\u001b[36mPrecompiling module DataFrames.\n",
      "\u001b[39m"
     ]
    }
   ],
   "source": [
    "#imports\n",
    "using DataFrames"
   ]
  },
  {
   "cell_type": "code",
   "execution_count": 6,
   "metadata": {
    "collapsed": false
   },
   "outputs": [],
   "source": [
    "testFrame = readtable(\"../data/preprocessed/test.csv\");\n",
    "trainFrame = readtable(\"../data/preprocessed/train.csv\");"
   ]
  },
  {
   "cell_type": "markdown",
   "metadata": {},
   "source": [
    "# Summary Statistics"
   ]
  },
  {
   "cell_type": "code",
   "execution_count": 12,
   "metadata": {
    "collapsed": false
   },
   "outputs": [
    {
     "name": "stdout",
     "output_type": "stream",
     "text": [
      "125497040 6"
     ]
    }
   ],
   "source": [
    "print(nrow(trainFrame),\" \",ncol(trainFrame))"
   ]
  },
  {
   "cell_type": "markdown",
   "metadata": {},
   "source": [
    "We see that we have over 100M observations"
   ]
  }
 ],
 "metadata": {
  "kernelspec": {
   "display_name": "Julia 0.6.0",
   "language": "julia",
   "name": "julia-0.6"
  },
  "language_info": {
   "file_extension": ".jl",
   "mimetype": "application/julia",
   "name": "julia",
   "version": "0.6.0"
  },
  "latex_envs": {
   "bibliofile": "biblio.bib",
   "cite_by": "apalike",
   "current_citInitial": 1,
   "eqLabelWithNumbers": true,
   "eqNumInitial": 0
  },
  "nav_menu": {},
  "toc": {
   "navigate_menu": true,
   "number_sections": true,
   "sideBar": true,
   "threshold": 6,
   "toc_cell": false,
   "toc_section_display": "block",
   "toc_window_display": false
  }
 },
 "nbformat": 4,
 "nbformat_minor": 2
}
