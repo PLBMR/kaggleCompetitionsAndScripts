{
 "cells": [
  {
   "cell_type": "markdown",
   "metadata": {},
   "source": [
    "# Allstate Severe Insurance Claim Competition: Initial Modeling\n",
    "\n",
    "_Description: contains my initial modeling for the [Allstate Severe Insurance Claim Competition](https://www.kaggle.com/c/allstate-claims-severity)._\n",
    "\n",
    "_Last Updated: 1/4/2016 5:11 PM._\n",
    "\n",
    "_By: [Michael Rosenberg](https://www.kaggle.com/mmrosenb)._"
   ]
  },
  {
   "cell_type": "code",
   "execution_count": 1,
   "metadata": {
    "collapsed": true
   },
   "outputs": [],
   "source": [
    "#imports\n",
    "import pandas as pd\n",
    "import numpy as np\n",
    "import seaborn as sns\n",
    "import cPickle as cpkl\n",
    "from sklearn import preprocessing as pp\n",
    "from sklearn import linear_model as lm\n",
    "import matplotlib.pyplot as plt\n",
    "from IPython.display import display, HTML, Markdown, display #display settings\n",
    "import warnings #for filtering warnings\n",
    "\n",
    "#constants\n",
    "%matplotlib inline\n",
    "sns.set_style(\"dark\")\n",
    "#to ignore warnings in output\n",
    "warnings.filterwarnings('ignore')\n",
    "#global information settings\n",
    "sigLev = 2 #three significant digits\n",
    "percentMul = 100 #for percentage multiplication\n",
    "figWidth = figHeight = 8"
   ]
  },
  {
   "cell_type": "markdown",
   "metadata": {},
   "source": [
    "For now, I hope to perform some initial modeling with the top thirty features that I generated from my [Summary Statistics notebook](summaryStatistics.ipynb). We will start by doing a simple linear regression and some diagnostics using that linear regression with the top thirty features."
   ]
  },
  {
   "cell_type": "code",
   "execution_count": 2,
   "metadata": {
    "collapsed": false
   },
   "outputs": [],
   "source": [
    "#load dataset and feature list\n",
    "trainFrame = pd.read_csv(\"../data/train.csv\")\n",
    "testFrame = pd.read_csv(\"../data/test.csv\")\n",
    "initialFeatureList = cpkl.load(open(\"../data/featureList.pkl\",\"rb\"))"
   ]
  },
  {
   "cell_type": "markdown",
   "metadata": {},
   "source": [
    "## Initial Modeling: Target $\\log(Loss)$\n",
    "\n",
    "Since my [Summary Statistics notebook](summaryStatistics.ipynb) initially found the loss variable to be incredibly right skewed (see Figure 1), I want to see if it may be reasonable to try and fit an initial linear model targeting $\\log(Loss)$ and then transfering my predictions to $loss$ format with an after-the-fact transformation. Let us see how well this method performs."
   ]
  },
  {
   "cell_type": "code",
   "execution_count": 3,
   "metadata": {
    "collapsed": false
   },
   "outputs": [],
   "source": [
    "trainFrame[\"logLoss\"] = np.log(trainFrame[\"loss\"])\n",
    "initialMod_lm = lm.LinearRegression()\n",
    "#get predictors\n",
    "def factorizeVariable(varName,featureFrame):\n",
    "    #helper that factorizes a variable in featureFrame and then returns the\n",
    "    #feature frame with that new factorization\n",
    "    labelEncoder = pp.LabelEncoder()\n",
    "    intEncoding = labelEncoder.fit_transform(featureFrame[varName])\n",
    "    #then make dummary variables\n",
    "    uniqueLevels = labelEncoder.classes_\n",
    "    for i in xrange(len(uniqueLevels) - 1): #can't be perfectly colinear\n",
    "        dummyVarName = varName + \"_\" + uniqueLevels[i]\n",
    "        featureFrame[dummyVarName] = 0\n",
    "        featureFrame.loc[intEncoding == i,dummyVarName] = 1\n",
    "    #then drop original var name\n",
    "    featureFrame = featureFrame.drop(varName,axis = 1)\n",
    "    return featureFrame\n",
    "featureSet = trainFrame[initialFeatureList]\n",
    "#the run factorization procedure\n",
    "for feature in initialFeatureList:\n",
    "    featureSet = factorizeVariable(feature,featureSet)"
   ]
  },
  {
   "cell_type": "code",
   "execution_count": 4,
   "metadata": {
    "collapsed": false
   },
   "outputs": [
    {
     "data": {
      "text/plain": [
       "LinearRegression(copy_X=True, fit_intercept=True, n_jobs=1, normalize=False)"
      ]
     },
     "execution_count": 4,
     "metadata": {},
     "output_type": "execute_result"
    }
   ],
   "source": [
    "#then make predictions\n",
    "targetVar = trainFrame[\"logLoss\"]\n",
    "initialMod_lm.fit(featureSet,targetVar)"
   ]
  },
  {
   "cell_type": "code",
   "execution_count": 5,
   "metadata": {
    "collapsed": false
   },
   "outputs": [],
   "source": [
    "#build objective function\n",
    "def mae(actualTarget,predictedTarget):\n",
    "    #calculates mean absolute error\n",
    "    absVec = np.abs(actualTarget - predictedTarget)\n",
    "    mae = (float(1) / absVec.shape[0]) * np.sum(absVec)\n",
    "    return mae\n",
    "#get our test feature set for making predictions\n",
    "testFeatureSet = testFrame[initialFeatureList]\n",
    "for feature in initialFeatureList:\n",
    "    testFeatureSet = factorizeVariable(feature,testFeatureSet)"
   ]
  },
  {
   "cell_type": "code",
   "execution_count": 6,
   "metadata": {
    "collapsed": false
   },
   "outputs": [
    {
     "name": "stdout",
     "output_type": "stream",
     "text": [
      "[ -3.53401046e+09  -1.36478725e+10   9.95227594e+00 ...,   2.37617345e+10\n",
      "  -3.53401046e+09  -3.53401046e+09]\n",
      "[     0.              0.          20999.96264957 ...,             inf\n",
      "      0.              0.        ]\n"
     ]
    }
   ],
   "source": [
    "#then make predictions\n",
    "testLogPredictions = initialMod_lm.predict(testFeatureSet)\n",
    "testPredictions = np.exp(testLogPredictions)\n",
    "print testLogPredictions\n",
    "print testPredictions"
   ]
  },
  {
   "cell_type": "markdown",
   "metadata": {},
   "source": [
    "We see that predicting on log is really, really bad for output. Let us focus on $Loss$ rather than $\\log(Loss).$"
   ]
  },
  {
   "cell_type": "code",
   "execution_count": 7,
   "metadata": {
    "collapsed": false
   },
   "outputs": [
    {
     "data": {
      "text/plain": [
       "LinearRegression(copy_X=True, fit_intercept=True, n_jobs=1, normalize=False)"
      ]
     },
     "execution_count": 7,
     "metadata": {},
     "output_type": "execute_result"
    }
   ],
   "source": [
    "#refit\n",
    "targetVar = trainFrame[\"loss\"]\n",
    "initialMod_lm.fit(featureSet,targetVar)"
   ]
  },
  {
   "cell_type": "code",
   "execution_count": 8,
   "metadata": {
    "collapsed": false
   },
   "outputs": [
    {
     "name": "stdout",
     "output_type": "stream",
     "text": [
      "[ -3.09400206e+11  -4.82140281e+13   1.26524319e+04 ...,   9.61186560e+13\n",
      "  -3.09400206e+11  -3.09400202e+11]\n"
     ]
    }
   ],
   "source": [
    "testPredictions = initialMod_lm.predict(testFeatureSet)\n",
    "print testPredictions"
   ]
  },
  {
   "cell_type": "markdown",
   "metadata": {},
   "source": [
    "It looks like our predictions are exploding on the test set. Nonetheless, let us simply submit these for an attempt."
   ]
  },
  {
   "cell_type": "code",
   "execution_count": 9,
   "metadata": {
    "collapsed": false
   },
   "outputs": [],
   "source": [
    "submission = pd.DataFrame({\"id\":list(testFrame[\"id\"]),\n",
    "                           \"loss\":testPredictions})\n",
    "submission.to_csv(\"../data/initialSubmission.csv\",index = False)"
   ]
  },
  {
   "cell_type": "markdown",
   "metadata": {},
   "source": [
    "As expected, we are performing extremely badly on this initial submission. Let us check the Mean Absolute Error (MAE) on our training set."
   ]
  },
  {
   "cell_type": "code",
   "execution_count": 10,
   "metadata": {
    "collapsed": false
   },
   "outputs": [],
   "source": [
    "trainPredictions = initialMod_lm.predict(featureSet)\n",
    "trainMAE = mae(trainPredictions,targetVar)"
   ]
  },
  {
   "cell_type": "markdown",
   "metadata": {
    "variables": {
     "np.log(trainMAE)": "7.2324648244636904",
     "trainMAE": "1383.6287064013666"
    }
   },
   "source": [
    "We see that the training MAE is {{trainMAE}}. When we look at our [summary statistics](summaryStatistics.ipynb), or about {{np.log(trainMAE)}} on the $\\log$ scale. Given that $\\log(Loss)$ is primarily within the $6$ to $10$ range, it suggests to me that we still have a long way to go to produce strong predictions.\n",
    "\n",
    "Let us see how large our coefficients are."
   ]
  },
  {
   "cell_type": "code",
   "execution_count": 11,
   "metadata": {
    "collapsed": false
   },
   "outputs": [
    {
     "data": {
      "text/html": [
       "<div>\n",
       "<table border=\"1\" class=\"dataframe\">\n",
       "  <thead>\n",
       "    <tr style=\"text-align: right;\">\n",
       "      <th></th>\n",
       "      <th>Coefficient</th>\n",
       "      <th>Name</th>\n",
       "    </tr>\n",
       "  </thead>\n",
       "  <tbody>\n",
       "    <tr>\n",
       "      <th>17</th>\n",
       "      <td>-4.168943e+15</td>\n",
       "      <td>cat81_A</td>\n",
       "    </tr>\n",
       "    <tr>\n",
       "      <th>21</th>\n",
       "      <td>-5.697031e+14</td>\n",
       "      <td>cat7_A</td>\n",
       "    </tr>\n",
       "    <tr>\n",
       "      <th>55</th>\n",
       "      <td>-1.769137e+14</td>\n",
       "      <td>cat111_A</td>\n",
       "    </tr>\n",
       "    <tr>\n",
       "      <th>29</th>\n",
       "      <td>-7.187035e+13</td>\n",
       "      <td>cat3_A</td>\n",
       "    </tr>\n",
       "    <tr>\n",
       "      <th>70</th>\n",
       "      <td>-4.821403e+13</td>\n",
       "      <td>cat5_A</td>\n",
       "    </tr>\n",
       "    <tr>\n",
       "      <th>27</th>\n",
       "      <td>-4.790463e+13</td>\n",
       "      <td>cat89_G</td>\n",
       "    </tr>\n",
       "    <tr>\n",
       "      <th>26</th>\n",
       "      <td>-4.790463e+13</td>\n",
       "      <td>cat89_E</td>\n",
       "    </tr>\n",
       "    <tr>\n",
       "      <th>24</th>\n",
       "      <td>-4.790463e+13</td>\n",
       "      <td>cat89_C</td>\n",
       "    </tr>\n",
       "    <tr>\n",
       "      <th>23</th>\n",
       "      <td>-4.790463e+13</td>\n",
       "      <td>cat89_B</td>\n",
       "    </tr>\n",
       "    <tr>\n",
       "      <th>25</th>\n",
       "      <td>-4.790463e+13</td>\n",
       "      <td>cat89_D</td>\n",
       "    </tr>\n",
       "    <tr>\n",
       "      <th>28</th>\n",
       "      <td>-4.790463e+13</td>\n",
       "      <td>cat89_H</td>\n",
       "    </tr>\n",
       "    <tr>\n",
       "      <th>20</th>\n",
       "      <td>-4.227286e+03</td>\n",
       "      <td>cat57_A</td>\n",
       "    </tr>\n",
       "    <tr>\n",
       "      <th>56</th>\n",
       "      <td>-3.562370e+03</td>\n",
       "      <td>cat111_B</td>\n",
       "    </tr>\n",
       "    <tr>\n",
       "      <th>57</th>\n",
       "      <td>-2.954051e+03</td>\n",
       "      <td>cat111_C</td>\n",
       "    </tr>\n",
       "    <tr>\n",
       "      <th>59</th>\n",
       "      <td>-2.582776e+03</td>\n",
       "      <td>cat111_E</td>\n",
       "    </tr>\n",
       "    <tr>\n",
       "      <th>60</th>\n",
       "      <td>-2.389784e+03</td>\n",
       "      <td>cat111_F</td>\n",
       "    </tr>\n",
       "    <tr>\n",
       "      <th>61</th>\n",
       "      <td>-2.198001e+03</td>\n",
       "      <td>cat111_G</td>\n",
       "    </tr>\n",
       "    <tr>\n",
       "      <th>39</th>\n",
       "      <td>-1.805508e+03</td>\n",
       "      <td>cat73_B</td>\n",
       "    </tr>\n",
       "    <tr>\n",
       "      <th>62</th>\n",
       "      <td>-1.758012e+03</td>\n",
       "      <td>cat111_I</td>\n",
       "    </tr>\n",
       "    <tr>\n",
       "      <th>11</th>\n",
       "      <td>-1.499613e+03</td>\n",
       "      <td>cat79_B</td>\n",
       "    </tr>\n",
       "    <tr>\n",
       "      <th>38</th>\n",
       "      <td>-1.490141e+03</td>\n",
       "      <td>cat73_A</td>\n",
       "    </tr>\n",
       "    <tr>\n",
       "      <th>10</th>\n",
       "      <td>-1.393315e+03</td>\n",
       "      <td>cat79_A</td>\n",
       "    </tr>\n",
       "    <tr>\n",
       "      <th>58</th>\n",
       "      <td>-1.182368e+03</td>\n",
       "      <td>cat111_D</td>\n",
       "    </tr>\n",
       "    <tr>\n",
       "      <th>63</th>\n",
       "      <td>-1.181941e+03</td>\n",
       "      <td>cat111_K</td>\n",
       "    </tr>\n",
       "    <tr>\n",
       "      <th>12</th>\n",
       "      <td>-1.140073e+03</td>\n",
       "      <td>cat79_C</td>\n",
       "    </tr>\n",
       "    <tr>\n",
       "      <th>3</th>\n",
       "      <td>-9.128080e+02</td>\n",
       "      <td>cat12_A</td>\n",
       "    </tr>\n",
       "    <tr>\n",
       "      <th>5</th>\n",
       "      <td>-6.435117e+02</td>\n",
       "      <td>cat87_B</td>\n",
       "    </tr>\n",
       "    <tr>\n",
       "      <th>64</th>\n",
       "      <td>-6.230500e+02</td>\n",
       "      <td>cat111_M</td>\n",
       "    </tr>\n",
       "    <tr>\n",
       "      <th>53</th>\n",
       "      <td>-6.087943e+02</td>\n",
       "      <td>cat6_A</td>\n",
       "    </tr>\n",
       "    <tr>\n",
       "      <th>65</th>\n",
       "      <td>-5.699134e+02</td>\n",
       "      <td>cat111_O</td>\n",
       "    </tr>\n",
       "    <tr>\n",
       "      <th>...</th>\n",
       "      <td>...</td>\n",
       "      <td>...</td>\n",
       "    </tr>\n",
       "    <tr>\n",
       "      <th>71</th>\n",
       "      <td>4.649580e+02</td>\n",
       "      <td>cat28_A</td>\n",
       "    </tr>\n",
       "    <tr>\n",
       "      <th>72</th>\n",
       "      <td>5.378899e+02</td>\n",
       "      <td>cat40_A</td>\n",
       "    </tr>\n",
       "    <tr>\n",
       "      <th>2</th>\n",
       "      <td>5.571095e+02</td>\n",
       "      <td>cat80_C</td>\n",
       "    </tr>\n",
       "    <tr>\n",
       "      <th>18</th>\n",
       "      <td>6.855061e+02</td>\n",
       "      <td>cat81_B</td>\n",
       "    </tr>\n",
       "    <tr>\n",
       "      <th>19</th>\n",
       "      <td>7.497642e+02</td>\n",
       "      <td>cat81_C</td>\n",
       "    </tr>\n",
       "    <tr>\n",
       "      <th>42</th>\n",
       "      <td>7.595144e+02</td>\n",
       "      <td>cat103_C</td>\n",
       "    </tr>\n",
       "    <tr>\n",
       "      <th>67</th>\n",
       "      <td>8.913488e+02</td>\n",
       "      <td>cat111_S</td>\n",
       "    </tr>\n",
       "    <tr>\n",
       "      <th>68</th>\n",
       "      <td>8.937635e+02</td>\n",
       "      <td>cat111_U</td>\n",
       "    </tr>\n",
       "    <tr>\n",
       "      <th>1</th>\n",
       "      <td>1.100431e+03</td>\n",
       "      <td>cat80_B</td>\n",
       "    </tr>\n",
       "    <tr>\n",
       "      <th>43</th>\n",
       "      <td>1.125665e+03</td>\n",
       "      <td>cat103_D</td>\n",
       "    </tr>\n",
       "    <tr>\n",
       "      <th>44</th>\n",
       "      <td>1.332712e+03</td>\n",
       "      <td>cat103_E</td>\n",
       "    </tr>\n",
       "    <tr>\n",
       "      <th>51</th>\n",
       "      <td>1.759607e+03</td>\n",
       "      <td>cat103_L</td>\n",
       "    </tr>\n",
       "    <tr>\n",
       "      <th>45</th>\n",
       "      <td>1.841342e+03</td>\n",
       "      <td>cat103_F</td>\n",
       "    </tr>\n",
       "    <tr>\n",
       "      <th>46</th>\n",
       "      <td>2.253571e+03</td>\n",
       "      <td>cat103_G</td>\n",
       "    </tr>\n",
       "    <tr>\n",
       "      <th>69</th>\n",
       "      <td>2.266314e+03</td>\n",
       "      <td>cat111_W</td>\n",
       "    </tr>\n",
       "    <tr>\n",
       "      <th>47</th>\n",
       "      <td>2.382214e+03</td>\n",
       "      <td>cat103_H</td>\n",
       "    </tr>\n",
       "    <tr>\n",
       "      <th>0</th>\n",
       "      <td>2.750824e+03</td>\n",
       "      <td>cat80_A</td>\n",
       "    </tr>\n",
       "    <tr>\n",
       "      <th>50</th>\n",
       "      <td>3.146338e+03</td>\n",
       "      <td>cat103_K</td>\n",
       "    </tr>\n",
       "    <tr>\n",
       "      <th>49</th>\n",
       "      <td>3.244933e+03</td>\n",
       "      <td>cat103_J</td>\n",
       "    </tr>\n",
       "    <tr>\n",
       "      <th>48</th>\n",
       "      <td>3.350611e+03</td>\n",
       "      <td>cat103_I</td>\n",
       "    </tr>\n",
       "    <tr>\n",
       "      <th>36</th>\n",
       "      <td>4.790463e+13</td>\n",
       "      <td>cat90_F</td>\n",
       "    </tr>\n",
       "    <tr>\n",
       "      <th>35</th>\n",
       "      <td>4.790463e+13</td>\n",
       "      <td>cat90_E</td>\n",
       "    </tr>\n",
       "    <tr>\n",
       "      <th>34</th>\n",
       "      <td>4.790463e+13</td>\n",
       "      <td>cat90_D</td>\n",
       "    </tr>\n",
       "    <tr>\n",
       "      <th>32</th>\n",
       "      <td>4.790463e+13</td>\n",
       "      <td>cat90_B</td>\n",
       "    </tr>\n",
       "    <tr>\n",
       "      <th>33</th>\n",
       "      <td>4.790463e+13</td>\n",
       "      <td>cat90_C</td>\n",
       "    </tr>\n",
       "    <tr>\n",
       "      <th>40</th>\n",
       "      <td>4.821403e+13</td>\n",
       "      <td>cat103_A</td>\n",
       "    </tr>\n",
       "    <tr>\n",
       "      <th>31</th>\n",
       "      <td>1.197750e+14</td>\n",
       "      <td>cat90_A</td>\n",
       "    </tr>\n",
       "    <tr>\n",
       "      <th>73</th>\n",
       "      <td>1.769137e+14</td>\n",
       "      <td>cat4_A</td>\n",
       "    </tr>\n",
       "    <tr>\n",
       "      <th>22</th>\n",
       "      <td>5.217985e+14</td>\n",
       "      <td>cat89_A</td>\n",
       "    </tr>\n",
       "    <tr>\n",
       "      <th>4</th>\n",
       "      <td>4.168943e+15</td>\n",
       "      <td>cat87_A</td>\n",
       "    </tr>\n",
       "  </tbody>\n",
       "</table>\n",
       "<p>75 rows × 2 columns</p>\n",
       "</div>"
      ],
      "text/plain": [
       "     Coefficient      Name\n",
       "17 -4.168943e+15   cat81_A\n",
       "21 -5.697031e+14    cat7_A\n",
       "55 -1.769137e+14  cat111_A\n",
       "29 -7.187035e+13    cat3_A\n",
       "70 -4.821403e+13    cat5_A\n",
       "27 -4.790463e+13   cat89_G\n",
       "26 -4.790463e+13   cat89_E\n",
       "24 -4.790463e+13   cat89_C\n",
       "23 -4.790463e+13   cat89_B\n",
       "25 -4.790463e+13   cat89_D\n",
       "28 -4.790463e+13   cat89_H\n",
       "20 -4.227286e+03   cat57_A\n",
       "56 -3.562370e+03  cat111_B\n",
       "57 -2.954051e+03  cat111_C\n",
       "59 -2.582776e+03  cat111_E\n",
       "60 -2.389784e+03  cat111_F\n",
       "61 -2.198001e+03  cat111_G\n",
       "39 -1.805508e+03   cat73_B\n",
       "62 -1.758012e+03  cat111_I\n",
       "11 -1.499613e+03   cat79_B\n",
       "38 -1.490141e+03   cat73_A\n",
       "10 -1.393315e+03   cat79_A\n",
       "58 -1.182368e+03  cat111_D\n",
       "63 -1.181941e+03  cat111_K\n",
       "12 -1.140073e+03   cat79_C\n",
       "3  -9.128080e+02   cat12_A\n",
       "5  -6.435117e+02   cat87_B\n",
       "64 -6.230500e+02  cat111_M\n",
       "53 -6.087943e+02    cat6_A\n",
       "65 -5.699134e+02  cat111_O\n",
       "..           ...       ...\n",
       "71  4.649580e+02   cat28_A\n",
       "72  5.378899e+02   cat40_A\n",
       "2   5.571095e+02   cat80_C\n",
       "18  6.855061e+02   cat81_B\n",
       "19  7.497642e+02   cat81_C\n",
       "42  7.595144e+02  cat103_C\n",
       "67  8.913488e+02  cat111_S\n",
       "68  8.937635e+02  cat111_U\n",
       "1   1.100431e+03   cat80_B\n",
       "43  1.125665e+03  cat103_D\n",
       "44  1.332712e+03  cat103_E\n",
       "51  1.759607e+03  cat103_L\n",
       "45  1.841342e+03  cat103_F\n",
       "46  2.253571e+03  cat103_G\n",
       "69  2.266314e+03  cat111_W\n",
       "47  2.382214e+03  cat103_H\n",
       "0   2.750824e+03   cat80_A\n",
       "50  3.146338e+03  cat103_K\n",
       "49  3.244933e+03  cat103_J\n",
       "48  3.350611e+03  cat103_I\n",
       "36  4.790463e+13   cat90_F\n",
       "35  4.790463e+13   cat90_E\n",
       "34  4.790463e+13   cat90_D\n",
       "32  4.790463e+13   cat90_B\n",
       "33  4.790463e+13   cat90_C\n",
       "40  4.821403e+13  cat103_A\n",
       "31  1.197750e+14   cat90_A\n",
       "73  1.769137e+14    cat4_A\n",
       "22  5.217985e+14   cat89_A\n",
       "4   4.168943e+15   cat87_A\n",
       "\n",
       "[75 rows x 2 columns]"
      ]
     },
     "metadata": {},
     "output_type": "display_data"
    }
   ],
   "source": [
    "coefFrame = pd.DataFrame({\"Name\":featureSet.columns,\n",
    "                           \"Coefficient\":initialMod_lm.coef_})\n",
    "coefFrame = coefFrame.sort_values(\"Coefficient\")\n",
    "display(coefFrame)"
   ]
  },
  {
   "cell_type": "markdown",
   "metadata": {},
   "source": [
    "_Table 1: Coefficients of Our Initial Model._\n",
    "\n",
    "It is apparent that the current linear regression is featuring some exploding coefficients, possibly driven by particular outliers. This suggests to me that the first thing we should probably do is regularize the size of these coefficients through a LASSO variation of our regression."
   ]
  },
  {
   "cell_type": "code",
   "execution_count": 12,
   "metadata": {
    "collapsed": false
   },
   "outputs": [
    {
     "data": {
      "text/plain": [
       "Lasso(alpha=1.0, copy_X=True, fit_intercept=True, max_iter=1000,\n",
       "   normalize=False, positive=False, precompute=False, random_state=None,\n",
       "   selection='cyclic', tol=0.0001, warm_start=False)"
      ]
     },
     "execution_count": 12,
     "metadata": {},
     "output_type": "execute_result"
    }
   ],
   "source": [
    "initialMod_lasso = lm.Lasso()\n",
    "initialMod_lasso.fit(featureSet,targetVar)"
   ]
  },
  {
   "cell_type": "code",
   "execution_count": 13,
   "metadata": {
    "collapsed": true
   },
   "outputs": [],
   "source": [
    "def makeSubmission(testFrame,testFeatureSet,givenModel,\n",
    "                   csvName = \"newSubmission.csv\"):\n",
    "    #helper that creates a new submission for us\n",
    "    testPredictions = givenModel.predict(testFeatureSet) \n",
    "    submission = pd.DataFrame({\"id\":list(testFrame[\"id\"]),\n",
    "                           \"loss\":testPredictions})\n",
    "    submission.to_csv(\"../data/\" + csvName,index = False)\n",
    "makeSubmission(testFrame,testFeatureSet,initialMod_lasso,\n",
    "               \"initialLassoSubmission.csv\")"
   ]
  },
  {
   "cell_type": "markdown",
   "metadata": {},
   "source": [
    "Interestingly, this submission has improved significantly on the test set compared to our previous submission, partially due to the fact we reduced overfitting significantly. Let us study diagnostics of this on the training data.\n",
    "\n",
    "## LASSO Regression: Diagnostics"
   ]
  },
  {
   "cell_type": "code",
   "execution_count": 14,
   "metadata": {
    "collapsed": false
   },
   "outputs": [],
   "source": [
    "#then check mae\n",
    "lassoMAE = mae(initialMod_lasso.predict(featureSet),targetVar)"
   ]
  },
  {
   "cell_type": "markdown",
   "metadata": {
    "variables": {
     "lassoMAE": "1385.5088775594397"
    }
   },
   "source": [
    "Our LASSO regression has an MAE of {{lassoMAE}}. This is close to the MAE of our OLS regression, which suggests that we are performing about on-par on the training data, although after the MAE analysis on the OLS regression, it's still not an incredible fit for the data. Let us study the coefficients on the LASSO regression."
   ]
  },
  {
   "cell_type": "code",
   "execution_count": 15,
   "metadata": {
    "collapsed": false
   },
   "outputs": [],
   "source": [
    "#get number of coefficients that are non-zero\n",
    "coefVec = initialMod_lasso.coef_\n",
    "nonZeroEntries = np.where(coefVec != 0)[0]"
   ]
  },
  {
   "cell_type": "markdown",
   "metadata": {
    "variables": {
     "coefVec.shape[0]": "75",
     "nonZeroEntries.shape[0]": "48"
    }
   },
   "source": [
    "We see that {{nonZeroEntries.shape[0]}} of the {{coefVec.shape[0]}} considered are given predictive abilities in the regression. This does suggest that we are getting rid of a good portion of unnecessary multicolinearities that appeared in our initial linear regression. Let us study which features have been the highest and lowest coefficients in these {{nonZeroEntries.shape[0]}} features."
   ]
  },
  {
   "cell_type": "code",
   "execution_count": 16,
   "metadata": {
    "collapsed": false
   },
   "outputs": [
    {
     "data": {
      "text/html": [
       "<div>\n",
       "<table border=\"1\" class=\"dataframe\">\n",
       "  <thead>\n",
       "    <tr style=\"text-align: right;\">\n",
       "      <th></th>\n",
       "      <th>Coefficient</th>\n",
       "      <th>Feature_Name</th>\n",
       "    </tr>\n",
       "  </thead>\n",
       "  <tbody>\n",
       "    <tr>\n",
       "      <th>1</th>\n",
       "      <td>1112.244115</td>\n",
       "      <td>cat80_B</td>\n",
       "    </tr>\n",
       "    <tr>\n",
       "      <th>16</th>\n",
       "      <td>728.955619</td>\n",
       "      <td>cat81_C</td>\n",
       "    </tr>\n",
       "    <tr>\n",
       "      <th>15</th>\n",
       "      <td>697.256839</td>\n",
       "      <td>cat81_B</td>\n",
       "    </tr>\n",
       "    <tr>\n",
       "      <th>41</th>\n",
       "      <td>673.943582</td>\n",
       "      <td>cat111_M</td>\n",
       "    </tr>\n",
       "    <tr>\n",
       "      <th>31</th>\n",
       "      <td>519.220707</td>\n",
       "      <td>cat103_G</td>\n",
       "    </tr>\n",
       "    <tr>\n",
       "      <th>2</th>\n",
       "      <td>474.767531</td>\n",
       "      <td>cat80_C</td>\n",
       "    </tr>\n",
       "    <tr>\n",
       "      <th>45</th>\n",
       "      <td>423.912157</td>\n",
       "      <td>cat40_A</td>\n",
       "    </tr>\n",
       "    <tr>\n",
       "      <th>6</th>\n",
       "      <td>413.316502</td>\n",
       "      <td>cat1_A</td>\n",
       "    </tr>\n",
       "    <tr>\n",
       "      <th>0</th>\n",
       "      <td>405.450914</td>\n",
       "      <td>cat80_A</td>\n",
       "    </tr>\n",
       "    <tr>\n",
       "      <th>40</th>\n",
       "      <td>391.146660</td>\n",
       "      <td>cat111_K</td>\n",
       "    </tr>\n",
       "    <tr>\n",
       "      <th>44</th>\n",
       "      <td>352.976563</td>\n",
       "      <td>cat28_A</td>\n",
       "    </tr>\n",
       "    <tr>\n",
       "      <th>30</th>\n",
       "      <td>344.465155</td>\n",
       "      <td>cat103_F</td>\n",
       "    </tr>\n",
       "    <tr>\n",
       "      <th>42</th>\n",
       "      <td>281.881788</td>\n",
       "      <td>cat111_O</td>\n",
       "    </tr>\n",
       "    <tr>\n",
       "      <th>21</th>\n",
       "      <td>248.274098</td>\n",
       "      <td>cat16_A</td>\n",
       "    </tr>\n",
       "    <tr>\n",
       "      <th>32</th>\n",
       "      <td>212.034235</td>\n",
       "      <td>cat103_I</td>\n",
       "    </tr>\n",
       "    <tr>\n",
       "      <th>33</th>\n",
       "      <td>158.874602</td>\n",
       "      <td>cat36_A</td>\n",
       "    </tr>\n",
       "    <tr>\n",
       "      <th>24</th>\n",
       "      <td>150.446033</td>\n",
       "      <td>cat23_A</td>\n",
       "    </tr>\n",
       "    <tr>\n",
       "      <th>19</th>\n",
       "      <td>17.922587</td>\n",
       "      <td>cat89_B</td>\n",
       "    </tr>\n",
       "    <tr>\n",
       "      <th>23</th>\n",
       "      <td>0.410097</td>\n",
       "      <td>cat90_B</td>\n",
       "    </tr>\n",
       "    <tr>\n",
       "      <th>22</th>\n",
       "      <td>-1.321001</td>\n",
       "      <td>cat90_A</td>\n",
       "    </tr>\n",
       "    <tr>\n",
       "      <th>35</th>\n",
       "      <td>-22.267015</td>\n",
       "      <td>cat50_A</td>\n",
       "    </tr>\n",
       "    <tr>\n",
       "      <th>29</th>\n",
       "      <td>-185.089186</td>\n",
       "      <td>cat103_D</td>\n",
       "    </tr>\n",
       "    <tr>\n",
       "      <th>18</th>\n",
       "      <td>-200.780060</td>\n",
       "      <td>cat7_A</td>\n",
       "    </tr>\n",
       "    <tr>\n",
       "      <th>20</th>\n",
       "      <td>-218.730270</td>\n",
       "      <td>cat3_A</td>\n",
       "    </tr>\n",
       "    <tr>\n",
       "      <th>7</th>\n",
       "      <td>-232.205713</td>\n",
       "      <td>cat2_A</td>\n",
       "    </tr>\n",
       "    <tr>\n",
       "      <th>47</th>\n",
       "      <td>-271.279404</td>\n",
       "      <td>cat38_A</td>\n",
       "    </tr>\n",
       "    <tr>\n",
       "      <th>14</th>\n",
       "      <td>-279.543864</td>\n",
       "      <td>cat13_A</td>\n",
       "    </tr>\n",
       "    <tr>\n",
       "      <th>12</th>\n",
       "      <td>-281.939710</td>\n",
       "      <td>cat11_A</td>\n",
       "    </tr>\n",
       "    <tr>\n",
       "      <th>13</th>\n",
       "      <td>-293.308863</td>\n",
       "      <td>cat72_A</td>\n",
       "    </tr>\n",
       "    <tr>\n",
       "      <th>11</th>\n",
       "      <td>-297.425165</td>\n",
       "      <td>cat9_A</td>\n",
       "    </tr>\n",
       "    <tr>\n",
       "      <th>25</th>\n",
       "      <td>-304.303275</td>\n",
       "      <td>cat73_B</td>\n",
       "    </tr>\n",
       "    <tr>\n",
       "      <th>39</th>\n",
       "      <td>-443.775082</td>\n",
       "      <td>cat111_G</td>\n",
       "    </tr>\n",
       "    <tr>\n",
       "      <th>5</th>\n",
       "      <td>-496.616368</td>\n",
       "      <td>cat10_A</td>\n",
       "    </tr>\n",
       "    <tr>\n",
       "      <th>28</th>\n",
       "      <td>-532.250946</td>\n",
       "      <td>cat103_C</td>\n",
       "    </tr>\n",
       "    <tr>\n",
       "      <th>36</th>\n",
       "      <td>-544.223276</td>\n",
       "      <td>cat111_A</td>\n",
       "    </tr>\n",
       "    <tr>\n",
       "      <th>34</th>\n",
       "      <td>-605.408707</td>\n",
       "      <td>cat6_A</td>\n",
       "    </tr>\n",
       "    <tr>\n",
       "      <th>4</th>\n",
       "      <td>-642.275426</td>\n",
       "      <td>cat87_B</td>\n",
       "    </tr>\n",
       "    <tr>\n",
       "      <th>26</th>\n",
       "      <td>-728.052399</td>\n",
       "      <td>cat103_A</td>\n",
       "    </tr>\n",
       "    <tr>\n",
       "      <th>43</th>\n",
       "      <td>-758.074573</td>\n",
       "      <td>cat5_A</td>\n",
       "    </tr>\n",
       "    <tr>\n",
       "      <th>38</th>\n",
       "      <td>-820.004178</td>\n",
       "      <td>cat111_E</td>\n",
       "    </tr>\n",
       "    <tr>\n",
       "      <th>3</th>\n",
       "      <td>-907.958416</td>\n",
       "      <td>cat12_A</td>\n",
       "    </tr>\n",
       "    <tr>\n",
       "      <th>10</th>\n",
       "      <td>-973.136724</td>\n",
       "      <td>cat79_C</td>\n",
       "    </tr>\n",
       "    <tr>\n",
       "      <th>27</th>\n",
       "      <td>-973.202923</td>\n",
       "      <td>cat103_B</td>\n",
       "    </tr>\n",
       "    <tr>\n",
       "      <th>46</th>\n",
       "      <td>-1120.015486</td>\n",
       "      <td>cat4_A</td>\n",
       "    </tr>\n",
       "    <tr>\n",
       "      <th>37</th>\n",
       "      <td>-1174.808520</td>\n",
       "      <td>cat111_C</td>\n",
       "    </tr>\n",
       "    <tr>\n",
       "      <th>8</th>\n",
       "      <td>-1324.678133</td>\n",
       "      <td>cat79_A</td>\n",
       "    </tr>\n",
       "    <tr>\n",
       "      <th>9</th>\n",
       "      <td>-1473.148679</td>\n",
       "      <td>cat79_B</td>\n",
       "    </tr>\n",
       "    <tr>\n",
       "      <th>17</th>\n",
       "      <td>-4135.796427</td>\n",
       "      <td>cat57_A</td>\n",
       "    </tr>\n",
       "  </tbody>\n",
       "</table>\n",
       "</div>"
      ],
      "text/plain": [
       "    Coefficient Feature_Name\n",
       "1   1112.244115      cat80_B\n",
       "16   728.955619      cat81_C\n",
       "15   697.256839      cat81_B\n",
       "41   673.943582     cat111_M\n",
       "31   519.220707     cat103_G\n",
       "2    474.767531      cat80_C\n",
       "45   423.912157      cat40_A\n",
       "6    413.316502       cat1_A\n",
       "0    405.450914      cat80_A\n",
       "40   391.146660     cat111_K\n",
       "44   352.976563      cat28_A\n",
       "30   344.465155     cat103_F\n",
       "42   281.881788     cat111_O\n",
       "21   248.274098      cat16_A\n",
       "32   212.034235     cat103_I\n",
       "33   158.874602      cat36_A\n",
       "24   150.446033      cat23_A\n",
       "19    17.922587      cat89_B\n",
       "23     0.410097      cat90_B\n",
       "22    -1.321001      cat90_A\n",
       "35   -22.267015      cat50_A\n",
       "29  -185.089186     cat103_D\n",
       "18  -200.780060       cat7_A\n",
       "20  -218.730270       cat3_A\n",
       "7   -232.205713       cat2_A\n",
       "47  -271.279404      cat38_A\n",
       "14  -279.543864      cat13_A\n",
       "12  -281.939710      cat11_A\n",
       "13  -293.308863      cat72_A\n",
       "11  -297.425165       cat9_A\n",
       "25  -304.303275      cat73_B\n",
       "39  -443.775082     cat111_G\n",
       "5   -496.616368      cat10_A\n",
       "28  -532.250946     cat103_C\n",
       "36  -544.223276     cat111_A\n",
       "34  -605.408707       cat6_A\n",
       "4   -642.275426      cat87_B\n",
       "26  -728.052399     cat103_A\n",
       "43  -758.074573       cat5_A\n",
       "38  -820.004178     cat111_E\n",
       "3   -907.958416      cat12_A\n",
       "10  -973.136724      cat79_C\n",
       "27  -973.202923     cat103_B\n",
       "46 -1120.015486       cat4_A\n",
       "37 -1174.808520     cat111_C\n",
       "8  -1324.678133      cat79_A\n",
       "9  -1473.148679      cat79_B\n",
       "17 -4135.796427      cat57_A"
      ]
     },
     "metadata": {},
     "output_type": "display_data"
    }
   ],
   "source": [
    "columnsConsidered = list(featureSet.columns[nonZeroEntries])\n",
    "coefficientsConsidered = coefVec[nonZeroEntries]\n",
    "coefFrame = pd.DataFrame({\"Feature_Name\":columnsConsidered,\n",
    "                          \"Coefficient\":coefficientsConsidered})\n",
    "#then order\n",
    "coefFrame = coefFrame.sort_values(\"Coefficient\",ascending = False)\n",
    "display(coefFrame)"
   ]
  },
  {
   "cell_type": "markdown",
   "metadata": {},
   "source": [
    "_Table 2: Features with non-zero coefficients from our LASSO regression._\n",
    "\n",
    "We do see that our top 5 highest correlated variables (see [summary statistics](summaryStatistics.ipynb)) do show up having predictive power in this regression, which provides more evidence for their usefulness in this regression. We see that slightly more coefficients provide negative effects, which is slightly worrisome since this may suggest negative $Loss$ predictions. We also see that `cat57_A` provides an extremely negative effect, which is unusual relative to the rest of the cofficients that are more around the $[-1500,1200]$ range.\n",
    "\n",
    "Let us study how well we are predicting over different target levels."
   ]
  },
  {
   "cell_type": "code",
   "execution_count": 18,
   "metadata": {
    "collapsed": false
   },
   "outputs": [
    {
     "data": {
      "text/plain": [
       "<matplotlib.text.Text at 0x1087e4d90>"
      ]
     },
     "execution_count": 18,
     "metadata": {},
     "output_type": "execute_result"
    },
    {
     "data": {
      "image/png": "[encoded data removed]",
      "text/plain": [
       "<matplotlib.figure.Figure at 0x10d3362d0>"
      ]
     },
     "metadata": {},
     "output_type": "display_data"
    }
   ],
   "source": [
    "#make residual-target plot\n",
    "residuals = targetVar - initialMod_lasso.predict(featureSet)\n",
    "#make residuals on target variable\n",
    "givenFig = plt.figure(figsize = (figWidth,figHeight))\n",
    "plt.scatter(np.log(targetVar),residuals)\n",
    "plt.xlabel(\"$\\log$(Fitted Value)\")\n",
    "plt.ylabel(\"Residual\")\n",
    "plt.title(\"Residuals on Fitted Values For LASSO Regression\")"
   ]
  },
  {
   "cell_type": "markdown",
   "metadata": {},
   "source": [
    "_Figure 1: Residuals on Log Fitted Values._\n",
    "\n",
    "Interestingly, we see that while we are doing some sizable underprediction in $6$ to $9$ range of $\\log(\\text{Fitted Value})$, it is apparent that we are doing severe underprediction at the high end of our fitted values. This may suggest some exponential effect occuring in the increases of true values, and these outliers may be pulling up our MAE. Let us check how severely they are affecting our training MAE by removing all observations with residuals above $40000$ from our training set, refitting our model, and then seeing the changes in MAE that occur. Of course, if we were doing a formal outlier analysis, we would use a much more meaningful measure of outlier detection."
   ]
  },
  {
   "cell_type": "code",
   "execution_count": 43,
   "metadata": {
    "collapsed": false
   },
   "outputs": [],
   "source": [
    "outlierCutoff = 40000\n",
    "nonOutlierRows = list(np.where(residuals < outlierCutoff)[0])\n",
    "nonOutlierFeatureSet = featureSet.iloc[nonOutlierRows,:]\n",
    "nonOutlierTargetVar = targetVar.iloc[nonOutlierRows]"
   ]
  },
  {
   "cell_type": "code",
   "execution_count": 44,
   "metadata": {
    "collapsed": false
   },
   "outputs": [
    {
     "data": {
      "text/plain": [
       "Lasso(alpha=1.0, copy_X=True, fit_intercept=True, max_iter=1000,\n",
       "   normalize=False, positive=False, precompute=False, random_state=None,\n",
       "   selection='cyclic', tol=0.0001, warm_start=False)"
      ]
     },
     "execution_count": 44,
     "metadata": {},
     "output_type": "execute_result"
    }
   ],
   "source": [
    "nonOutlierMod_lasso = lm.Lasso()\n",
    "nonOutlierMod_lasso.fit(nonOutlierFeatureSet,nonOutlierTargetVar)"
   ]
  },
  {
   "cell_type": "code",
   "execution_count": 47,
   "metadata": {
    "collapsed": false
   },
   "outputs": [],
   "source": [
    "nonOutlierLassoMAE = mae(nonOutlierMod_lasso.predict(nonOutlierFeatureSet),\n",
    "                         nonOutlierTargetVar)"
   ]
  },
  {
   "cell_type": "markdown",
   "metadata": {
    "variables": {
     "nonOutlierLassoMAE": "1380.3344651997925"
    }
   },
   "source": [
    "We are getting an MAE of {{nonOutlierLassoMAE}} on our current training set, which is not a great reduction in MAE. To some degree it looks like we should be considering some potential non-linearities that could exist within the main dataset."
   ]
  },
  {
   "cell_type": "code",
   "execution_count": 46,
   "metadata": {
    "collapsed": true
   },
   "outputs": [],
   "source": [
    "makeSubmission(testFrame,testFeatureSet,nonOutlierMod_lasso,\n",
    "               \"lassoWithTrainingOutliersRemovedSubmission.csv\")"
   ]
  },
  {
   "cell_type": "markdown",
   "metadata": {},
   "source": [
    "## Kernel Ridge Regression\n",
    "\n",
    "We will now attempt to use a kernel ridge regression with the parameters that were given non-zero coefficient"
   ]
  }
 ],
 "metadata": {
  "kernelspec": {
   "display_name": "Python 2",
   "language": "python",
   "name": "python2"
  },
  "language_info": {
   "codemirror_mode": {
    "name": "ipython",
    "version": 2
   },
   "file_extension": ".py",
   "mimetype": "text/x-python",
   "name": "python",
   "nbconvert_exporter": "python",
   "pygments_lexer": "ipython2",
   "version": "2.7.10"
  },
  "latex_envs": {
   "bibliofile": "biblio.bib",
   "cite_by": "apalike",
   "current_citInitial": 1,
   "eqLabelWithNumbers": true,
   "eqNumInitial": 0
  },
  "nav_menu": {},
  "toc": {
   "navigate_menu": true,
   "number_sections": true,
   "sideBar": true,
   "threshold": 6,
   "toc_cell": false,
   "toc_section_display": "block",
   "toc_window_display": false
  }
 },
 "nbformat": 4,
 "nbformat_minor": 0
}
