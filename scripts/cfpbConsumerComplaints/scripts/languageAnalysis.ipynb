{
 "cells": [
  {
   "cell_type": "code",
   "execution_count": 1,
   "metadata": {
    "collapsed": true
   },
   "outputs": [],
   "source": [
    "#imports\n",
    "\n",
    "import numpy as np\n",
    "import pandas as pd\n",
    "import nltk\n",
    "import collections as co\n",
    "import StringIO\n",
    "import matplotlib.pyplot as plt\n",
    "import warnings\n",
    "from IPython.display import display, HTML, Markdown, display\n",
    "\n",
    "#constants\n",
    "%matplotlib inline\n",
    "def printmd(string):\n",
    "    display(Markdown(string))\n",
    "alphaLev = .5"
   ]
  },
  {
   "cell_type": "code",
   "execution_count": 2,
   "metadata": {
    "collapsed": false
   },
   "outputs": [
    {
     "name": "stderr",
     "output_type": "stream",
     "text": [
      "/Library/Python/2.7/site-packages/IPython/core/interactiveshell.py:2723: DtypeWarning: Columns (5,11) have mixed types. Specify dtype option on import or set low_memory=False.\n",
      "  interactivity=interactivity, compiler=compiler, result=result)\n"
     ]
    }
   ],
   "source": [
    "#load in dataset\n",
    "complaintFrame = pd.read_csv(\"../data/consumer_complaints.csv\")"
   ]
  },
  {
   "cell_type": "markdown",
   "metadata": {},
   "source": [
    "# CFPB Consumer Complaints: Language Analysis\n",
    "\n",
    "In this notebook, I will perform EDA and language analysis on the text-sensitive data found in the [CFPB Consumer Complaints](https://www.kaggle.com/cfpb/us-consumer-finance-complaints) dataset. You can find my analysis on the non-text-sensitve EDA within [this script](https://www.kaggle.com/mmrosenb/d/cfpb/us-consumer-finance-complaints/eda-on-consumer-complaints). As we saw in some summary statistics within that script, about $432499$ observations do not have text-sensitive data, which makes this section a general down-sizing our sample. That being said, this section potentially carries the most important aspects of the consumer complaint.\n",
    "\n",
    "We will start by pre-processing our text data. Some of the code below is adapted from [Mike Chirico's EDA](https://www.kaggle.com/mchirico/d/cfpb/us-consumer-finance-complaints/analyzing-text-in-consumer-complaints)."
   ]
  },
  {
   "cell_type": "code",
   "execution_count": 3,
   "metadata": {
    "collapsed": false
   },
   "outputs": [],
   "source": [
    "#consider only narrative observations\n",
    "complaintNarrativeFrame = complaintFrame[complaintFrame[\"consumer_complaint_narrative\"].notnull()]\n",
    "# build a fast way to get strings\n",
    "# adapted from \n",
    "# https://www.kaggle.com/mchirico/d/cfpb/us-consumer-finance-complaints/analyzing-text-in-consumer-complaints\n",
    "s = StringIO.StringIO()\n",
    "complaintNarrativeFrame[\"consumer_complaint_narrative\"].apply(lambda x: s.write(x))\n",
    "k=s.getvalue()\n",
    "s.close()\n",
    "k=k.lower()\n",
    "k=k.split()"
   ]
  },
  {
   "cell_type": "code",
   "execution_count": 4,
   "metadata": {
    "collapsed": false
   },
   "outputs": [
    {
     "data": {
      "text/markdown": [
       "We see that we $3707242$ legal word tokens in our corpus. There are $13962$ legal non-stopword types in our corpus."
      ],
      "text/plain": [
       "<IPython.core.display.Markdown object>"
      ]
     },
     "metadata": {},
     "output_type": "display_data"
    }
   ],
   "source": [
    "# Next only want valid strings\n",
    "words = co.Counter(nltk.corpus.words.words())\n",
    "stopWords =co.Counter( nltk.corpus.stopwords.words() )\n",
    "k=[i for i in k if i in words and i not in stopWords]\n",
    "c = co.Counter(k)\n",
    "printmd(\"We see that we $\" + str(len(k)) + \"$ legal word tokens in our corpus. There are $\" + str(\n",
    "        len(list(c.most_common())))\n",
    "       + \"$ legal non-stopword types in our corpus.\")"
   ]
  },
  {
   "cell_type": "markdown",
   "metadata": {},
   "source": [
    "As discussed on [Mike Chirico's EDA](https://www.kaggle.com/mchirico/d/cfpb/us-consumer-finance-complaints/analyzing-text-in-consumer-complaints), `k` represents the array of all legal words with stopwords removed for the sentences concatenated, and `c` represents  a per-word counter over the legal words within our dataset. Let us take a look at the rank-frequency graph of our vocabulary, the $15$ most common words, and the $15$ least common words."
   ]
  },
  {
   "cell_type": "code",
   "execution_count": 5,
   "metadata": {
    "collapsed": false,
    "scrolled": false
   },
   "outputs": [
    {
     "data": {
      "image/png": "[encoded data removed]",
      "text/plain": [
       "<matplotlib.figure.Figure at 0x12a2ad2d0>"
      ]
     },
     "metadata": {},
     "output_type": "display_data"
    },
    {
     "data": {
      "text/markdown": [
       "_Figure 1: Frequency-Rank Graphs of Our Vocabulary._"
      ],
      "text/plain": [
       "<IPython.core.display.Markdown object>"
      ]
     },
     "metadata": {},
     "output_type": "display_data"
    },
    {
     "data": {
      "text/html": [
       "<div>\n",
       "<table border=\"1\" class=\"dataframe\">\n",
       "  <thead>\n",
       "    <tr style=\"text-align: right;\">\n",
       "      <th></th>\n",
       "      <th>Word</th>\n",
       "      <th>Frequency</th>\n",
       "    </tr>\n",
       "  </thead>\n",
       "  <tbody>\n",
       "    <tr>\n",
       "      <th>0</th>\n",
       "      <td>credit</td>\n",
       "      <td>82342</td>\n",
       "    </tr>\n",
       "    <tr>\n",
       "      <th>1</th>\n",
       "      <td>account</td>\n",
       "      <td>58454</td>\n",
       "    </tr>\n",
       "    <tr>\n",
       "      <th>2</th>\n",
       "      <td>would</td>\n",
       "      <td>47840</td>\n",
       "    </tr>\n",
       "    <tr>\n",
       "      <th>3</th>\n",
       "      <td>loan</td>\n",
       "      <td>39920</td>\n",
       "    </tr>\n",
       "    <tr>\n",
       "      <th>4</th>\n",
       "      <td>bank</td>\n",
       "      <td>37751</td>\n",
       "    </tr>\n",
       "    <tr>\n",
       "      <th>5</th>\n",
       "      <td>told</td>\n",
       "      <td>36548</td>\n",
       "    </tr>\n",
       "    <tr>\n",
       "      <th>6</th>\n",
       "      <td>payment</td>\n",
       "      <td>36509</td>\n",
       "    </tr>\n",
       "    <tr>\n",
       "      <th>7</th>\n",
       "      <td>received</td>\n",
       "      <td>30722</td>\n",
       "    </tr>\n",
       "    <tr>\n",
       "      <th>8</th>\n",
       "      <td>debt</td>\n",
       "      <td>27829</td>\n",
       "    </tr>\n",
       "    <tr>\n",
       "      <th>9</th>\n",
       "      <td>mortgage</td>\n",
       "      <td>27401</td>\n",
       "    </tr>\n",
       "    <tr>\n",
       "      <th>10</th>\n",
       "      <td>never</td>\n",
       "      <td>25973</td>\n",
       "    </tr>\n",
       "    <tr>\n",
       "      <th>11</th>\n",
       "      <td>information</td>\n",
       "      <td>25223</td>\n",
       "    </tr>\n",
       "    <tr>\n",
       "      <th>12</th>\n",
       "      <td>pay</td>\n",
       "      <td>24479</td>\n",
       "    </tr>\n",
       "    <tr>\n",
       "      <th>13</th>\n",
       "      <td>get</td>\n",
       "      <td>24163</td>\n",
       "    </tr>\n",
       "    <tr>\n",
       "      <th>14</th>\n",
       "      <td>company</td>\n",
       "      <td>23792</td>\n",
       "    </tr>\n",
       "  </tbody>\n",
       "</table>\n",
       "</div>"
      ],
      "text/plain": [
       "           Word  Frequency\n",
       "0        credit      82342\n",
       "1       account      58454\n",
       "2         would      47840\n",
       "3          loan      39920\n",
       "4          bank      37751\n",
       "5          told      36548\n",
       "6       payment      36509\n",
       "7      received      30722\n",
       "8          debt      27829\n",
       "9      mortgage      27401\n",
       "10        never      25973\n",
       "11  information      25223\n",
       "12          pay      24479\n",
       "13          get      24163\n",
       "14      company      23792"
      ]
     },
     "metadata": {},
     "output_type": "display_data"
    },
    {
     "data": {
      "text/markdown": [
       "_Table 1: The $15$ most frequent words with their frequencies_"
      ],
      "text/plain": [
       "<IPython.core.display.Markdown object>"
      ]
     },
     "metadata": {},
     "output_type": "display_data"
    },
    {
     "data": {
      "text/html": [
       "<div>\n",
       "<table border=\"1\" class=\"dataframe\">\n",
       "  <thead>\n",
       "    <tr style=\"text-align: right;\">\n",
       "      <th></th>\n",
       "      <th>Word</th>\n",
       "      <th>Frequency</th>\n",
       "    </tr>\n",
       "  </thead>\n",
       "  <tbody>\n",
       "    <tr>\n",
       "      <th>13947</th>\n",
       "      <td>trimester</td>\n",
       "      <td>1</td>\n",
       "    </tr>\n",
       "    <tr>\n",
       "      <th>13948</th>\n",
       "      <td>sufferer</td>\n",
       "      <td>1</td>\n",
       "    </tr>\n",
       "    <tr>\n",
       "      <th>13949</th>\n",
       "      <td>resumption</td>\n",
       "      <td>1</td>\n",
       "    </tr>\n",
       "    <tr>\n",
       "      <th>13950</th>\n",
       "      <td>atter</td>\n",
       "      <td>1</td>\n",
       "    </tr>\n",
       "    <tr>\n",
       "      <th>13951</th>\n",
       "      <td>demonize</td>\n",
       "      <td>1</td>\n",
       "    </tr>\n",
       "    <tr>\n",
       "      <th>13952</th>\n",
       "      <td>cave</td>\n",
       "      <td>1</td>\n",
       "    </tr>\n",
       "    <tr>\n",
       "      <th>13953</th>\n",
       "      <td>unusualness</td>\n",
       "      <td>1</td>\n",
       "    </tr>\n",
       "    <tr>\n",
       "      <th>13954</th>\n",
       "      <td>withstood</td>\n",
       "      <td>1</td>\n",
       "    </tr>\n",
       "    <tr>\n",
       "      <th>13955</th>\n",
       "      <td>exclamation</td>\n",
       "      <td>1</td>\n",
       "    </tr>\n",
       "    <tr>\n",
       "      <th>13956</th>\n",
       "      <td>gat</td>\n",
       "      <td>1</td>\n",
       "    </tr>\n",
       "    <tr>\n",
       "      <th>13957</th>\n",
       "      <td>peaking</td>\n",
       "      <td>1</td>\n",
       "    </tr>\n",
       "    <tr>\n",
       "      <th>13958</th>\n",
       "      <td>backer</td>\n",
       "      <td>1</td>\n",
       "    </tr>\n",
       "    <tr>\n",
       "      <th>13959</th>\n",
       "      <td>pate</td>\n",
       "      <td>1</td>\n",
       "    </tr>\n",
       "    <tr>\n",
       "      <th>13960</th>\n",
       "      <td>reticence</td>\n",
       "      <td>1</td>\n",
       "    </tr>\n",
       "    <tr>\n",
       "      <th>13961</th>\n",
       "      <td>proximately</td>\n",
       "      <td>1</td>\n",
       "    </tr>\n",
       "  </tbody>\n",
       "</table>\n",
       "</div>"
      ],
      "text/plain": [
       "              Word  Frequency\n",
       "13947    trimester          1\n",
       "13948     sufferer          1\n",
       "13949   resumption          1\n",
       "13950        atter          1\n",
       "13951     demonize          1\n",
       "13952         cave          1\n",
       "13953  unusualness          1\n",
       "13954    withstood          1\n",
       "13955  exclamation          1\n",
       "13956          gat          1\n",
       "13957      peaking          1\n",
       "13958       backer          1\n",
       "13959         pate          1\n",
       "13960    reticence          1\n",
       "13961  proximately          1"
      ]
     },
     "metadata": {},
     "output_type": "display_data"
    },
    {
     "data": {
      "text/markdown": [
       "_Table 2: The $15$ least frequent words with their frequencies_"
      ],
      "text/plain": [
       "<IPython.core.display.Markdown object>"
      ]
     },
     "metadata": {},
     "output_type": "display_data"
    }
   ],
   "source": [
    "wordFrequencyFrame = pd.DataFrame(c.most_common(len(c)),columns = [\"Word\",\"Frequency\"])\n",
    "#plot frequency on rank\n",
    "fig, (ax1, ax2) = plt.subplots(1, 2)\n",
    "fig.set_size_inches(18, 7)\n",
    "#freq-rank\n",
    "ax1.plot(wordFrequencyFrame.index,wordFrequencyFrame[\"Frequency\"])\n",
    "ax1.set_title(\"Frequency on Rank of Vocabulary\")\n",
    "ax1.set_xlabel(\"Rank\")\n",
    "ax1.set_ylabel(\"Frequency\")\n",
    "#freq-logRank\n",
    "ax2.plot(np.log(wordFrequencyFrame.index + 1),np.log(wordFrequencyFrame[\"Frequency\"]))\n",
    "ax2.set_title(\"Log-Frequency on Log-Rank of Vocabulary\")\n",
    "ax2.set_xlabel(\"Log Rank\")\n",
    "ax2.set_ylabel(\"Frequency\")\n",
    "plt.show()\n",
    "printmd(\"_Figure 1: Frequency-Rank Graphs of Our Vocabulary._\")\n",
    "#get 15 most common\n",
    "top15FrequencyFrame = wordFrequencyFrame.iloc[0:15,:]\n",
    "display(top15FrequencyFrame)\n",
    "printmd(\"_Table 1: The $15$ most frequent words with their frequencies_\")\n",
    "#get 15 least common\n",
    "bottom15FrequencyFrame = wordFrequencyFrame.iloc[(wordFrequencyFrame.shape[0]-15):wordFrequencyFrame.shape[0],:]\n",
    "display(bottom15FrequencyFrame)\n",
    "printmd(\"_Table 2: The $15$ least frequent words with their frequencies_\")"
   ]
  },
  {
   "cell_type": "markdown",
   "metadata": {},
   "source": [
    "We see by the log-frequency on log-rank graph (Figure 1, right) that fitting a [Zipf Distribution](https://en.wikipedia.org/wiki/Zipf%27s_law) to this graph may potentially over-prediction the probability of less frequent words occuring, which suggests that our vocabulary is much more right-skewed than in a more ideal vocabulary. We see that the 15 most common words portray words that are very financially relevant, such as credit, account, loan, and bank.\n",
    "\n",
    "Let us now view the token-type graph to study richness of the vocabulary in the corpus."
   ]
  },
  {
   "cell_type": "code",
   "execution_count": 6,
   "metadata": {
    "collapsed": false
   },
   "outputs": [],
   "source": [
    "#get token-type list\n",
    "typeSet = set([]) #we will add to this over time\n",
    "typeTokenList = [] #we will add tuples to this\n",
    "for i in xrange(len(k)):\n",
    "    givenToken = k[i]\n",
    "    if (givenToken not in typeSet): #we should get a new type count\n",
    "        typeSet.add(givenToken)\n",
    "    #then add information to type-token list\n",
    "    typeTokenList.append((i+1,len(typeSet)))"
   ]
  },
  {
   "cell_type": "code",
   "execution_count": 7,
   "metadata": {
    "collapsed": false
   },
   "outputs": [
    {
     "data": {
      "image/png": "[encoded data removed]",
      "text/plain": [
       "<matplotlib.figure.Figure at 0x11b468e90>"
      ]
     },
     "metadata": {},
     "output_type": "display_data"
    },
    {
     "data": {
      "text/markdown": [
       "_Figure 2: Type-Token Graph for full vocabulary._"
      ],
      "text/plain": [
       "<IPython.core.display.Markdown object>"
      ]
     },
     "metadata": {},
     "output_type": "display_data"
    }
   ],
   "source": [
    "#then plot\n",
    "typeTokenFrame = pd.DataFrame(typeTokenList,columns = [\"Token Count\",\"Type Count\"])\n",
    "plt.plot(typeTokenFrame[\"Token Count\"],typeTokenFrame[\"Type Count\"])\n",
    "plt.xlabel(\"Token Count\")\n",
    "plt.ylabel(\"Type Count\")\n",
    "plt.title(\"Token Count on Type Count\")\n",
    "plt.show()\n",
    "printmd(\"_Figure 2: Type-Token Graph for full vocabulary._\")"
   ]
  },
  {
   "cell_type": "markdown",
   "metadata": {},
   "source": [
    "We see that the growth of our vocabulary begins to slow after around $1000000$ tokens in our corpus, which is about $27\\%$ of the way through our corpus. To me, this suggests that the vocabulary is not extremely diverse, although it is difficult to compare without studying the relationship with other corpora.\n",
    "\n",
    "It would be very interesting to see if the richness of vocabulary changes based on the product being addressed. Let us take a look at the distribution of products over observations with complaint narratives and the type-token graphs for each product."
   ]
  },
  {
   "cell_type": "code",
   "execution_count": 8,
   "metadata": {
    "collapsed": false
   },
   "outputs": [
    {
     "data": {
      "image/png": "[encoded data removed]",
      "text/plain": [
       "<matplotlib.figure.Figure at 0x1517f1210>"
      ]
     },
     "metadata": {},
     "output_type": "display_data"
    },
    {
     "data": {
      "text/markdown": [
       "_Figure 3: Distribution of product types._"
      ],
      "text/plain": [
       "<IPython.core.display.Markdown object>"
      ]
     },
     "metadata": {},
     "output_type": "display_data"
    },
    {
     "data": {
      "text/markdown": [
       "The number of narratives of the product type 'Other financial service' is $110$."
      ],
      "text/plain": [
       "<IPython.core.display.Markdown object>"
      ]
     },
     "metadata": {},
     "output_type": "display_data"
    }
   ],
   "source": [
    "productCountFrame = complaintNarrativeFrame.groupby(\"product\")[\"consumer_complaint_narrative\"].count()\n",
    "#from pylab import *\n",
    "#val = 3+10*rand(5)    # the bar lengths\n",
    "pos = np.arange(productCountFrame.shape[0])+.5    # the bar centers on the y axis\n",
    "\n",
    "plt.barh(pos,productCountFrame, align='center')\n",
    "plt.yticks(pos,productCountFrame.index)\n",
    "plt.xlabel('Count')\n",
    "plt.ylabel(\"Product Type\")\n",
    "plt.title('Distribution of Product Type')\n",
    "plt.grid(True)\n",
    "plt.show()\n",
    "printmd(\"_Figure 3: Distribution of product types._\")\n",
    "printmd(\"The number of narratives of the product type 'Other financial service' is $\" + str(\n",
    "        productCountFrame[\"Other financial service\"]) + \"$.\")"
   ]
  },
  {
   "cell_type": "markdown",
   "metadata": {},
   "source": [
    "We see that our distribution seems very uneven, as we have a large amount of Mortgage, Debt Collection, and credit reporting narratives, but relatively few observations in money transfer, other financial services, and payday loans. This may suggest that it would be difficult to predict some of these smaller groups if we are interested in a predictive model on this issue."
   ]
  },
  {
   "cell_type": "code",
   "execution_count": 9,
   "metadata": {
    "collapsed": false
   },
   "outputs": [],
   "source": [
    "#declare functions before making type-token procedures\n",
    "def makeTypeTokenFrame(tokenList):\n",
    "    #helper that makes our type-token frame for a given token list\n",
    "    typeSet = set([]) #we will add to this over time\n",
    "    typeTokenList = [] #we will add tuples to this\n",
    "    for i in xrange(len(tokenList)):\n",
    "        givenToken = tokenList[i]\n",
    "        if (givenToken not in typeSet): #we should get a new type count\n",
    "            typeSet.add(givenToken)\n",
    "        #then add information to type-token list\n",
    "        typeTokenList.append((i+1,len(typeSet)))\n",
    "    return pd.DataFrame(typeTokenList,columns = [\"Token Count\",\"Type Count\"])\n",
    "\n",
    "def makeTokenList(consumerComplaintFrame):\n",
    "    #helper that makes token list from the given complaint frame\n",
    "    s = StringIO.StringIO()\n",
    "    consumerComplaintFrame[\"consumer_complaint_narrative\"].apply(lambda x: s.write(x))\n",
    "    k = s.getvalue() #gets string of unprocessed words\n",
    "    s.close()\n",
    "    #get actual unprocessed words\n",
    "    #k = k.lower()\n",
    "    k = k.split()\n",
    "    k = [i for i in k if i in words and i not in stopWords] #only consider legal words\n",
    "    return k\n",
    "\n",
    "def getTokenTypeFrameForProduct(consumerComplaintFrame,productName):\n",
    "    #helper that gets our token-type frame for narratives of a given product name\n",
    "    #get observations with this product name\n",
    "    givenProductComplaintFrame = consumerComplaintFrame[consumerComplaintFrame[\"product\"] == productName]\n",
    "    #then get token list\n",
    "    tokenList = makeTokenList(givenProductComplaintFrame)\n",
    "    #then make type-token frame\n",
    "    return makeTypeTokenFrame(tokenList)"
   ]
  },
  {
   "cell_type": "code",
   "execution_count": 10,
   "metadata": {
    "collapsed": false
   },
   "outputs": [],
   "source": [
    "#run through our observations\n",
    "typeTokenFrameDict = {} #we will adds to this\n",
    "for productName in productCountFrame.index:\n",
    "    typeTokenFrameDict[productName] = getTokenTypeFrameForProduct(complaintNarrativeFrame,productName)"
   ]
  },
  {
   "cell_type": "code",
   "execution_count": 11,
   "metadata": {
    "collapsed": false
   },
   "outputs": [
    {
     "data": {
      "image/png": "[encoded data removed]",
      "text/plain": [
       "<matplotlib.figure.Figure at 0x1518203d0>"
      ]
     },
     "metadata": {},
     "output_type": "display_data"
    },
    {
     "data": {
      "text/markdown": [
       "_Figure 4: Token-Type Graph By Product Name._"
      ],
      "text/plain": [
       "<IPython.core.display.Markdown object>"
      ]
     },
     "metadata": {},
     "output_type": "display_data"
    }
   ],
   "source": [
    "cmap = plt.get_cmap('Dark2')\n",
    "colorList = [cmap(i) for i in np.linspace(0, 1, len(typeTokenFrameDict))]\n",
    "for i in xrange(len(typeTokenFrameDict)):\n",
    "    productName = list(typeTokenFrameDict)[i]\n",
    "    givenProductTokenTypeFrame = typeTokenFrameDict[productName]\n",
    "    plt.plot(givenProductTokenTypeFrame[\"Token Count\"],\n",
    "             givenProductTokenTypeFrame[\"Type Count\"],label = productName,\n",
    "            c = colorList[i])\n",
    "plt.legend(bbox_to_anchor = (1.6,1))\n",
    "plt.xlabel(\"Token Count\")\n",
    "plt.ylabel(\"Type Count\")\n",
    "plt.title(\"Token-Type Graph\\nBy Product Name\")\n",
    "plt.show()\n",
    "printmd(\"_Figure 4: Token-Type Graph By Product Name._\")"
   ]
  },
  {
   "cell_type": "markdown",
   "metadata": {},
   "source": [
    "This graph makes one obvious thing apparent: that there are many more mortgage complaint observations than other categories. While it is difficult to define which of these products have the richest vocabulary due to the difference in line lengths, it is very obvious that debt collection and credit reporting seem to have less rich vocabularies than the other products. This may be essential for distinguishing the groups, although it is currently difficult to tell why this is. I am open to discussion on possible hypotheses for this.\n",
    "\n",
    "What may also be useful is to consider if we could predict whether a customer would eventually dispute the final resolution of a claim based on the language in the complaint itself. While it is likely this will also be a function of the company's decision of the company's response to the consumer, it may be interesting to study if vagueness or complexity of a dispute would factor into whether a consumer disputes a resolution."
   ]
  },
  {
   "cell_type": "code",
   "execution_count": 12,
   "metadata": {
    "collapsed": true
   },
   "outputs": [],
   "source": [
    "def getTokenTypeFrameForDispute(consumerComplaintFrame,disputeLev):\n",
    "    #helper that gets our token-type frame for narratives of a dispute level\n",
    "    #get observations with this product name\n",
    "    givenDisputeComplaintFrame = consumerComplaintFrame[consumerComplaintFrame[\"consumer_disputed?\"] == disputeLev]\n",
    "    #then get token list\n",
    "    tokenList = makeTokenList(givenDisputeComplaintFrame)\n",
    "    #then make type-token frame\n",
    "    return makeTypeTokenFrame(tokenList)"
   ]
  },
  {
   "cell_type": "code",
   "execution_count": 13,
   "metadata": {
    "collapsed": false
   },
   "outputs": [],
   "source": [
    "consumerDisputeDict = {} #we will add to this\n",
    "for disputeLev in complaintNarrativeFrame[\"consumer_disputed?\"].unique():\n",
    "    consumerDisputeDict[disputeLev] = getTokenTypeFrameForDispute(complaintNarrativeFrame,disputeLev)"
   ]
  },
  {
   "cell_type": "code",
   "execution_count": 14,
   "metadata": {
    "collapsed": false
   },
   "outputs": [
    {
     "data": {
      "image/png": "[encoded data removed]",
      "text/plain": [
       "<matplotlib.figure.Figure at 0x1626c6810>"
      ]
     },
     "metadata": {},
     "output_type": "display_data"
    },
    {
     "data": {
      "text/markdown": [
       "_Figure 5: Token-Type Graph By whether the consumer disputed._"
      ],
      "text/plain": [
       "<IPython.core.display.Markdown object>"
      ]
     },
     "metadata": {},
     "output_type": "display_data"
    }
   ],
   "source": [
    "for disputeLev in consumerDisputeDict:\n",
    "    DisputeTokenTypeFrame = consumerDisputeDict[disputeLev]\n",
    "    plt.plot(DisputeTokenTypeFrame[\"Token Count\"],\n",
    "             DisputeTokenTypeFrame[\"Type Count\"],label = disputeLev)\n",
    "plt.legend(bbox_to_anchor = (1.3,1))\n",
    "plt.xlabel(\"Token Count\")\n",
    "plt.ylabel(\"Type Count\")\n",
    "plt.title(\"Token-Type Graph\\nBy Whether Consumer Disputed\")\n",
    "plt.show()\n",
    "printmd(\"_Figure 5: Token-Type Graph By whether the consumer disputed._\")"
   ]
  },
  {
   "cell_type": "markdown",
   "metadata": {},
   "source": [
    "While it looks as though the \"Yes\" observations have a slightly richer vocabulary than the \"No\" observations, seems to be a relatively small difference.\n",
    "\n",
    "Nonetheless, I think this would be one of the interesting prediction problems to see whether or not the language of a given consumer complaint is as much of a reason for a dispute as the company response.\n",
    "\n",
    "## Predicting Consumer Disputes\n",
    "\n",
    "We will initially model our language using bag-of-words with TF-IDF encodings. This is for the sake of simplicity: if there may be another possible language model that may better represent the language-generation process for prediction sake, I may re-model the language."
   ]
  },
  {
   "cell_type": "code",
   "execution_count": 5,
   "metadata": {
    "collapsed": false
   },
   "outputs": [
    {
     "name": "stderr",
     "output_type": "stream",
     "text": [
      "/Library/Python/2.7/site-packages/numpy-1.11.0-py2.7-macosx-10.10-intel.egg/numpy/core/fromnumeric.py:2652: VisibleDeprecationWarning: `rank` is deprecated; use the `ndim` attribute or function instead. To find the rank of a matrix see `numpy.linalg.matrix_rank`.\n",
      "  VisibleDeprecationWarning)\n"
     ]
    }
   ],
   "source": [
    "from sklearn.feature_extraction.text import CountVectorizer, TfidfVectorizer\n",
    "#make mappable for vocabulary\n",
    "counterList = c.most_common()\n",
    "vocabDict = {} #we will add to this\n",
    "for i in xrange(len(counterList)):\n",
    "    vocabWord = counterList[i][0]\n",
    "    vocabDict[vocabWord] = i\n",
    "#make array of tf-idf counts\n",
    "vectorizer = TfidfVectorizer(min_df=1,stop_words = stopWords,vocabulary = vocabDict)\n",
    "unigramArray = vectorizer.fit_transform(complaintNarrativeFrame[\"consumer_complaint_narrative\"])"
   ]
  },
  {
   "cell_type": "code",
   "execution_count": 6,
   "metadata": {
    "collapsed": false
   },
   "outputs": [
    {
     "data": {
      "text/markdown": [
       "The number of features extracted is $13962$."
      ],
      "text/plain": [
       "<IPython.core.display.Markdown object>"
      ]
     },
     "metadata": {},
     "output_type": "display_data"
    }
   ],
   "source": [
    "#generate our language matrix\n",
    "languageFrame = pd.DataFrame(unigramArray.toarray(),columns = vectorizer.get_feature_names())\n",
    "printmd(\"The number of features extracted is $\" + str(languageFrame.shape[1]) + \"$.\")"
   ]
  },
  {
   "cell_type": "markdown",
   "metadata": {},
   "source": [
    "Given that this is an extremely high-dimensional model, it would be useful to consider a form of dimensionality reduction on this likely sparse vocabulary. We will consider a form of principal component analysis called `RandomizedPCA` for this purpose. We choose this form to account for the poor runtime of full PCA."
   ]
  },
  {
   "cell_type": "code",
   "execution_count": 7,
   "metadata": {
    "collapsed": false
   },
   "outputs": [
    {
     "data": {
      "text/plain": [
       "RandomizedPCA(copy=True, iterated_power=3, n_components=800,\n",
       "       random_state=None, whiten=False)"
      ]
     },
     "execution_count": 7,
     "metadata": {},
     "output_type": "execute_result"
    }
   ],
   "source": [
    "from sklearn.decomposition import RandomizedPCA\n",
    "#run PCA\n",
    "languagePCA = RandomizedPCA(n_components = 800)\n",
    "languagePCA.fit(languageFrame)"
   ]
  },
  {
   "cell_type": "code",
   "execution_count": 13,
   "metadata": {
    "collapsed": false
   },
   "outputs": [
    {
     "data": {
      "image/png": "[encoded data removed]",
      "text/plain": [
       "<matplotlib.figure.Figure at 0x1150c6d90>"
      ]
     },
     "metadata": {},
     "output_type": "display_data"
    },
    {
     "data": {
      "text/markdown": [
       "_Figure 6: Plot of our explained variance ratio for the first $800$ components of the randomized PCA on our dataset._"
      ],
      "text/plain": [
       "<IPython.core.display.Markdown object>"
      ]
     },
     "metadata": {},
     "output_type": "display_data"
    },
    {
     "data": {
      "text/markdown": [
       "The sum of the first $800$ randomized principal components accounts for $70.45\\%$ of the explained variance in the data."
      ],
      "text/plain": [
       "<IPython.core.display.Markdown object>"
      ]
     },
     "metadata": {},
     "output_type": "display_data"
    }
   ],
   "source": [
    "#plot explained variance\n",
    "plt.plot(range(len(languagePCA.explained_variance_ratio_)),languagePCA.explained_variance_ratio_,\"--\")\n",
    "plt.xlabel(\"Component Rank\")\n",
    "plt.ylabel(\"Explained Variance Ratio\")\n",
    "plt.title(\"Explained Variance Ratio\\nOf First $800$ Randomized PCs\")\n",
    "plt.show()\n",
    "printmd(\"_Figure 6: Plot of our explained variance ratio for the first $800$ components of the\"\n",
    "        + \" randomized PCA on our dataset._\")\n",
    "#get sum of first 99%\n",
    "printmd(\"The sum of the first $800$ randomized principal components accounts for $\"\n",
    "       + str(np.round(np.sum(languagePCA.explained_variance_ratio_) * 100,2)) \n",
    "       + \"\\%$ of the explained variance in the data.\")"
   ]
  },
  {
   "cell_type": "markdown",
   "metadata": {},
   "source": [
    "This is not the best reduction that we could be doing, but to offset the costly runtime of performing a full PCA on our TF-IDF encodings, it seems reasonable to simply reduce our encodings to around $800$ features. This will also make the classification runtimes more reasonable given the fewer number of features that we will be considering."
   ]
  },
  {
   "cell_type": "code",
   "execution_count": 9,
   "metadata": {
    "collapsed": false
   },
   "outputs": [],
   "source": [
    "reducedLanguageFeatures = languagePCA.transform(languageFrame)"
   ]
  },
  {
   "cell_type": "code",
   "execution_count": 10,
   "metadata": {
    "collapsed": false
   },
   "outputs": [],
   "source": [
    "reducedLangCols = [(\"PC \" + str(i)) for i in xrange(800)]\n",
    "reducedLangFrame = pd.DataFrame(reducedLanguageFeatures,columns = reducedLangCols)"
   ]
  },
  {
   "cell_type": "markdown",
   "metadata": {},
   "source": [
    "### Initial Modeling\n",
    "\n",
    "For the sake of first benchmarking simple classifiers, we will initially model our outcome using decision trees and logistic regressions. It is very likely that the true decision surface is much more complex than what these two model families are capable of, but we will consider this in a future step. For the variables we will consider we will use all $800$ features of our reduced language model and our company response categorical variable. We choose to include this categorical variable due to the very likely possibility that consumers will probably dispute a resolution based on how effective the company was at resolving their complaint.\n",
    "\n",
    "#### Lasso Logistic Regression\n",
    "\n",
    "We will first consider an $L_2$ logistic regression to study relevant features for fitting."
   ]
  },
  {
   "cell_type": "code",
   "execution_count": 11,
   "metadata": {
    "collapsed": false
   },
   "outputs": [
    {
     "name": "stdout",
     "output_type": "stream",
     "text": [
      "Closed\n",
      "Closed with explanation\n",
      "Closed with monetary relief\n",
      "Closed with non-monetary relief\n"
     ]
    },
    {
     "data": {
      "text/plain": [
       "LogisticRegression(C=1.0, class_weight=None, dual=False, fit_intercept=True,\n",
       "          intercept_scaling=1, max_iter=100, multi_class='ovr', n_jobs=1,\n",
       "          penalty='l2', random_state=None, solver='liblinear', tol=0.0001,\n",
       "          verbose=0, warm_start=False)"
      ]
     },
     "execution_count": 11,
     "metadata": {},
     "output_type": "execute_result"
    }
   ],
   "source": [
    "from sklearn import linear_model\n",
    "#get appended language frame\n",
    "appendedReducLangFrame = reducedLangFrame\n",
    "#encode company response to consumer\n",
    "from sklearn import preprocessing\n",
    "companyResponseSeries = complaintNarrativeFrame[\"company_response_to_consumer\"]\n",
    "companyResponseEncoding = preprocessing.LabelEncoder()\n",
    "encodedCompanyResponseSeries = companyResponseEncoding.fit_transform(companyResponseSeries)\n",
    "#encode disputes\n",
    "disputeSeries = complaintNarrativeFrame[\"consumer_disputed?\"]\n",
    "disputeEncoding = preprocessing.LabelEncoder()\n",
    "encodedDisputeSeries = disputeEncoding.fit_transform(disputeSeries)\n",
    "#then append our reduced language frame with our dummy variables\n",
    "for i in xrange(len(np.unique(encodedCompanyResponseSeries)) - 1): #leave one out for\n",
    "    #dummy variables\n",
    "    companyLev = np.unique(encodedCompanyResponseSeries)[i]\n",
    "    appendedReducLangFrame[companyResponseEncoding.classes_[companyLev]] = 0\n",
    "    print companyResponseEncoding.classes_[companyLev]\n",
    "    appendedReducLangFrame.loc[encodedCompanyResponseSeries == companyLev,\n",
    "                               companyResponseEncoding.classes_[companyLev]] = 1\n",
    "#then fit\n",
    "initialLogMod = linear_model.LogisticRegression(penalty = 'l2')\n",
    "initialLogMod.fit(appendedReducLangFrame,encodedDisputeSeries)"
   ]
  },
  {
   "cell_type": "code",
   "execution_count": 14,
   "metadata": {
    "collapsed": false
   },
   "outputs": [
    {
     "data": {
      "text/markdown": [
       "Our current accuracy on the full dataset with the $L_2$ logistic regression is $0.77$."
      ],
      "text/plain": [
       "<IPython.core.display.Markdown object>"
      ]
     },
     "metadata": {},
     "output_type": "display_data"
    }
   ],
   "source": [
    "#check fit of our decision tree\n",
    "from sklearn import metrics\n",
    "currentAccuracy = metrics.accuracy_score(encodedDisputeSeries,\n",
    "                             initialLogMod.predict(appendedReducLangFrame))\n",
    "printmd(\"Our current accuracy on the full dataset with the $L_2$ logistic regression is $\"\n",
    "       + str(np.round(currentAccuracy,2)) + \"$.\")"
   ]
  },
  {
   "cell_type": "markdown",
   "metadata": {},
   "source": [
    "This is not the best accuracy to start from, but it is a reasonable model for our current dataset. Let us look at the top $10$ and bottom $10$ coefficients in terms of their absolute value."
   ]
  },
  {
   "cell_type": "code",
   "execution_count": 16,
   "metadata": {
    "collapsed": false
   },
   "outputs": [
    {
     "data": {
      "text/html": [
       "<div>\n",
       "<table border=\"1\" class=\"dataframe\">\n",
       "  <thead>\n",
       "    <tr style=\"text-align: right;\">\n",
       "      <th></th>\n",
       "      <th>Coefficient</th>\n",
       "      <th>Absolute Coefficient</th>\n",
       "    </tr>\n",
       "  </thead>\n",
       "  <tbody>\n",
       "    <tr>\n",
       "      <th>Closed</th>\n",
       "      <td>2.814890</td>\n",
       "      <td>2.814890</td>\n",
       "    </tr>\n",
       "    <tr>\n",
       "      <th>Closed with explanation</th>\n",
       "      <td>2.571046</td>\n",
       "      <td>2.571046</td>\n",
       "    </tr>\n",
       "    <tr>\n",
       "      <th>PC 71</th>\n",
       "      <td>2.244042</td>\n",
       "      <td>2.244042</td>\n",
       "    </tr>\n",
       "    <tr>\n",
       "      <th>PC 46</th>\n",
       "      <td>-2.088127</td>\n",
       "      <td>2.088127</td>\n",
       "    </tr>\n",
       "    <tr>\n",
       "      <th>PC 79</th>\n",
       "      <td>-1.908447</td>\n",
       "      <td>1.908447</td>\n",
       "    </tr>\n",
       "    <tr>\n",
       "      <th>PC 10</th>\n",
       "      <td>-1.905461</td>\n",
       "      <td>1.905461</td>\n",
       "    </tr>\n",
       "    <tr>\n",
       "      <th>Closed with non-monetary relief</th>\n",
       "      <td>1.743661</td>\n",
       "      <td>1.743661</td>\n",
       "    </tr>\n",
       "    <tr>\n",
       "      <th>PC 330</th>\n",
       "      <td>-1.723339</td>\n",
       "      <td>1.723339</td>\n",
       "    </tr>\n",
       "    <tr>\n",
       "      <th>PC 779</th>\n",
       "      <td>1.643092</td>\n",
       "      <td>1.643092</td>\n",
       "    </tr>\n",
       "    <tr>\n",
       "      <th>PC 744</th>\n",
       "      <td>-1.627708</td>\n",
       "      <td>1.627708</td>\n",
       "    </tr>\n",
       "  </tbody>\n",
       "</table>\n",
       "</div>"
      ],
      "text/plain": [
       "                                 Coefficient  Absolute Coefficient\n",
       "Closed                              2.814890              2.814890\n",
       "Closed with explanation             2.571046              2.571046\n",
       "PC 71                               2.244042              2.244042\n",
       "PC 46                              -2.088127              2.088127\n",
       "PC 79                              -1.908447              1.908447\n",
       "PC 10                              -1.905461              1.905461\n",
       "Closed with non-monetary relief     1.743661              1.743661\n",
       "PC 330                             -1.723339              1.723339\n",
       "PC 779                              1.643092              1.643092\n",
       "PC 744                             -1.627708              1.627708"
      ]
     },
     "metadata": {},
     "output_type": "display_data"
    },
    {
     "data": {
      "text/markdown": [
       "_Table 3: Top $10$ coefficients of our logistic regression in terms of absolute value._"
      ],
      "text/plain": [
       "<IPython.core.display.Markdown object>"
      ]
     },
     "metadata": {},
     "output_type": "display_data"
    },
    {
     "data": {
      "text/html": [
       "<div>\n",
       "<table border=\"1\" class=\"dataframe\">\n",
       "  <thead>\n",
       "    <tr style=\"text-align: right;\">\n",
       "      <th></th>\n",
       "      <th>Coefficient</th>\n",
       "      <th>Absolute Coefficient</th>\n",
       "    </tr>\n",
       "  </thead>\n",
       "  <tbody>\n",
       "    <tr>\n",
       "      <th>PC 757</th>\n",
       "      <td>0.005174</td>\n",
       "      <td>0.005174</td>\n",
       "    </tr>\n",
       "    <tr>\n",
       "      <th>PC 532</th>\n",
       "      <td>-0.005080</td>\n",
       "      <td>0.005080</td>\n",
       "    </tr>\n",
       "    <tr>\n",
       "      <th>PC 398</th>\n",
       "      <td>0.004833</td>\n",
       "      <td>0.004833</td>\n",
       "    </tr>\n",
       "    <tr>\n",
       "      <th>PC 237</th>\n",
       "      <td>0.003740</td>\n",
       "      <td>0.003740</td>\n",
       "    </tr>\n",
       "    <tr>\n",
       "      <th>PC 215</th>\n",
       "      <td>-0.003736</td>\n",
       "      <td>0.003736</td>\n",
       "    </tr>\n",
       "    <tr>\n",
       "      <th>PC 61</th>\n",
       "      <td>0.003088</td>\n",
       "      <td>0.003088</td>\n",
       "    </tr>\n",
       "    <tr>\n",
       "      <th>PC 518</th>\n",
       "      <td>0.001521</td>\n",
       "      <td>0.001521</td>\n",
       "    </tr>\n",
       "    <tr>\n",
       "      <th>PC 404</th>\n",
       "      <td>-0.001449</td>\n",
       "      <td>0.001449</td>\n",
       "    </tr>\n",
       "    <tr>\n",
       "      <th>PC 33</th>\n",
       "      <td>0.000627</td>\n",
       "      <td>0.000627</td>\n",
       "    </tr>\n",
       "    <tr>\n",
       "      <th>PC 317</th>\n",
       "      <td>0.000611</td>\n",
       "      <td>0.000611</td>\n",
       "    </tr>\n",
       "  </tbody>\n",
       "</table>\n",
       "</div>"
      ],
      "text/plain": [
       "        Coefficient  Absolute Coefficient\n",
       "PC 757     0.005174              0.005174\n",
       "PC 532    -0.005080              0.005080\n",
       "PC 398     0.004833              0.004833\n",
       "PC 237     0.003740              0.003740\n",
       "PC 215    -0.003736              0.003736\n",
       "PC 61      0.003088              0.003088\n",
       "PC 518     0.001521              0.001521\n",
       "PC 404    -0.001449              0.001449\n",
       "PC 33      0.000627              0.000627\n",
       "PC 317     0.000611              0.000611"
      ]
     },
     "metadata": {},
     "output_type": "display_data"
    },
    {
     "data": {
      "text/markdown": [
       "_Table 4: Bottom $10$ coefficients of our logistic regression in terms of absolute value._"
      ],
      "text/plain": [
       "<IPython.core.display.Markdown object>"
      ]
     },
     "metadata": {},
     "output_type": "display_data"
    }
   ],
   "source": [
    "coefSeries = pd.Series(initialLogMod.coef_[0],index = appendedReducLangFrame.columns)\n",
    "coefFrame = pd.DataFrame()\n",
    "coefFrame[\"Coefficient\"] = coefSeries\n",
    "coefFrame[\"Absolute Coefficient\"] = np.abs(coefFrame[\"Coefficient\"])\n",
    "#then order it\n",
    "coefFrame = coefFrame.sort_values(\"Absolute Coefficient\",ascending = False)\n",
    "topTenCoeffs = coefFrame.iloc[0:10,:]\n",
    "bottomTenCoeffs = coefFrame.iloc[(coefFrame.shape[0]-10):coefFrame.shape[0],:]\n",
    "display(topTenCoeffs)\n",
    "printmd(\"_Table 3: Top $10$ coefficients of our logistic regression\"\n",
    "        + \" in terms of absolute value._\")\n",
    "display(bottomTenCoeffs)\n",
    "printmd(\"_Table 4: Bottom $10$ coefficients of our logistic regression in terms of absolute \"\n",
    "       + \"value._\")"
   ]
  },
  {
   "cell_type": "markdown",
   "metadata": {},
   "source": [
    "We see that $3$ of our levels for company response climb to the top of meaningful variables for figuring out if a consumer will dispute an outcome, and very quickly the magnitude of our coefficients lighten up as we begin to consider our principal components. This suggests that our components are not as effective at predicting consumer disputes as simply the company response. That being said, we see that the $71$st, $46$th, $79$th, and $10$th principal components do seem to provide some meaningful predictive effects. Let's take a look at these principal components in order to provide interpretation to them."
   ]
  },
  {
   "cell_type": "code",
   "execution_count": 23,
   "metadata": {
    "collapsed": false,
    "scrolled": false
   },
   "outputs": [
    {
     "ename": "ValueError",
     "evalue": "Wrong number of items passed 13962, placement implies 13966",
     "output_type": "error",
     "traceback": [
      "\u001b[0;31m---------------------------------------------------------------------------\u001b[0m",
      "\u001b[0;31mValueError\u001b[0m                                Traceback (most recent call last)",
      "\u001b[0;32m<ipython-input-23-b33b51384b00>\u001b[0m in \u001b[0;36m<module>\u001b[0;34m()\u001b[0m\n\u001b[1;32m      6\u001b[0m     \u001b[0;32mreturn\u001b[0m \u001b[0mlist\u001b[0m\u001b[0;34m(\u001b[0m\u001b[0mgivenPC\u001b[0m\u001b[0;34m.\u001b[0m\u001b[0mindex\u001b[0m\u001b[0;34m)\u001b[0m\u001b[0;34m\u001b[0m\u001b[0m\n\u001b[1;32m      7\u001b[0m \u001b[0mconsideredPCs\u001b[0m \u001b[0;34m=\u001b[0m \u001b[0;34m[\u001b[0m\u001b[0;36m71\u001b[0m\u001b[0;34m,\u001b[0m\u001b[0;36m46\u001b[0m\u001b[0;34m,\u001b[0m\u001b[0;36m79\u001b[0m\u001b[0;34m,\u001b[0m\u001b[0;36m10\u001b[0m\u001b[0;34m]\u001b[0m \u001b[0;31m#list of PCs we care about\u001b[0m\u001b[0;34m\u001b[0m\u001b[0m\n\u001b[0;32m----> 8\u001b[0;31m \u001b[0mwordArray\u001b[0m \u001b[0;34m=\u001b[0m \u001b[0;34m[\u001b[0m\u001b[0mgetOrderedWords\u001b[0m\u001b[0;34m(\u001b[0m\u001b[0mi\u001b[0m\u001b[0;34m)\u001b[0m \u001b[0;32mfor\u001b[0m \u001b[0mi\u001b[0m \u001b[0;32min\u001b[0m \u001b[0mconsideredPCs\u001b[0m\u001b[0;34m]\u001b[0m\u001b[0;34m\u001b[0m\u001b[0m\n\u001b[0m\u001b[1;32m      9\u001b[0m \u001b[0mcolNameArray\u001b[0m \u001b[0;34m=\u001b[0m \u001b[0;34m[\u001b[0m\u001b[0;34m(\u001b[0m\u001b[0;34m\"PC \"\u001b[0m \u001b[0;34m+\u001b[0m \u001b[0mstr\u001b[0m\u001b[0;34m(\u001b[0m\u001b[0mi\u001b[0m\u001b[0;34m)\u001b[0m\u001b[0;34m)\u001b[0m \u001b[0;32mfor\u001b[0m \u001b[0mi\u001b[0m \u001b[0;32min\u001b[0m \u001b[0mconsideredPCs\u001b[0m\u001b[0;34m]\u001b[0m\u001b[0;34m\u001b[0m\u001b[0m\n\u001b[1;32m     10\u001b[0m \u001b[0mwordFrame\u001b[0m \u001b[0;34m=\u001b[0m \u001b[0mpd\u001b[0m\u001b[0;34m.\u001b[0m\u001b[0mDataFrame\u001b[0m\u001b[0;34m(\u001b[0m\u001b[0mnp\u001b[0m\u001b[0;34m.\u001b[0m\u001b[0marray\u001b[0m\u001b[0;34m(\u001b[0m\u001b[0mwordArray\u001b[0m\u001b[0;34m)\u001b[0m\u001b[0;34m.\u001b[0m\u001b[0mT\u001b[0m\u001b[0;34m,\u001b[0m\u001b[0mcolumns\u001b[0m \u001b[0;34m=\u001b[0m \u001b[0mcolNameArray\u001b[0m\u001b[0;34m)\u001b[0m\u001b[0;34m\u001b[0m\u001b[0m\n",
      "\u001b[0;32m<ipython-input-23-b33b51384b00>\u001b[0m in \u001b[0;36mgetOrderedWords\u001b[0;34m(givenPCInd)\u001b[0m\n\u001b[1;32m      2\u001b[0m     \u001b[0;31m#helper that gets a list of ordered words from highest to lowest based on a particular\u001b[0m\u001b[0;34m\u001b[0m\u001b[0;34m\u001b[0m\u001b[0m\n\u001b[1;32m      3\u001b[0m     \u001b[0;31m#principal component\u001b[0m\u001b[0;34m\u001b[0m\u001b[0;34m\u001b[0m\u001b[0m\n\u001b[0;32m----> 4\u001b[0;31m     \u001b[0mgivenPC\u001b[0m \u001b[0;34m=\u001b[0m \u001b[0mpd\u001b[0m\u001b[0;34m.\u001b[0m\u001b[0mSeries\u001b[0m\u001b[0;34m(\u001b[0m\u001b[0mlanguagePCA\u001b[0m\u001b[0;34m.\u001b[0m\u001b[0mcomponents_\u001b[0m\u001b[0;34m[\u001b[0m\u001b[0mgivenPCInd\u001b[0m\u001b[0;34m,\u001b[0m\u001b[0;34m:\u001b[0m\u001b[0;34m]\u001b[0m\u001b[0;34m,\u001b[0m\u001b[0mindex\u001b[0m \u001b[0;34m=\u001b[0m \u001b[0mlanguageFrame\u001b[0m\u001b[0;34m.\u001b[0m\u001b[0mcolumns\u001b[0m\u001b[0;34m)\u001b[0m\u001b[0;34m\u001b[0m\u001b[0m\n\u001b[0m\u001b[1;32m      5\u001b[0m     \u001b[0mgivenPC\u001b[0m \u001b[0;34m=\u001b[0m \u001b[0mgivenPC\u001b[0m\u001b[0;34m.\u001b[0m\u001b[0msort_values\u001b[0m\u001b[0;34m(\u001b[0m\u001b[0mascending\u001b[0m \u001b[0;34m=\u001b[0m \u001b[0mFalse\u001b[0m\u001b[0;34m)\u001b[0m\u001b[0;34m\u001b[0m\u001b[0m\n\u001b[1;32m      6\u001b[0m     \u001b[0;32mreturn\u001b[0m \u001b[0mlist\u001b[0m\u001b[0;34m(\u001b[0m\u001b[0mgivenPC\u001b[0m\u001b[0;34m.\u001b[0m\u001b[0mindex\u001b[0m\u001b[0;34m)\u001b[0m\u001b[0;34m\u001b[0m\u001b[0m\n",
      "\u001b[0;32m/Library/Python/2.7/site-packages/pandas/core/series.pyc\u001b[0m in \u001b[0;36m__init__\u001b[0;34m(self, data, index, dtype, name, copy, fastpath)\u001b[0m\n\u001b[1;32m    226\u001b[0m                                        raise_cast_failure=True)\n\u001b[1;32m    227\u001b[0m \u001b[0;34m\u001b[0m\u001b[0m\n\u001b[0;32m--> 228\u001b[0;31m                 \u001b[0mdata\u001b[0m \u001b[0;34m=\u001b[0m \u001b[0mSingleBlockManager\u001b[0m\u001b[0;34m(\u001b[0m\u001b[0mdata\u001b[0m\u001b[0;34m,\u001b[0m \u001b[0mindex\u001b[0m\u001b[0;34m,\u001b[0m \u001b[0mfastpath\u001b[0m\u001b[0;34m=\u001b[0m\u001b[0mTrue\u001b[0m\u001b[0;34m)\u001b[0m\u001b[0;34m\u001b[0m\u001b[0m\n\u001b[0m\u001b[1;32m    229\u001b[0m \u001b[0;34m\u001b[0m\u001b[0m\n\u001b[1;32m    230\u001b[0m         \u001b[0mgeneric\u001b[0m\u001b[0;34m.\u001b[0m\u001b[0mNDFrame\u001b[0m\u001b[0;34m.\u001b[0m\u001b[0m__init__\u001b[0m\u001b[0;34m(\u001b[0m\u001b[0mself\u001b[0m\u001b[0;34m,\u001b[0m \u001b[0mdata\u001b[0m\u001b[0;34m,\u001b[0m \u001b[0mfastpath\u001b[0m\u001b[0;34m=\u001b[0m\u001b[0mTrue\u001b[0m\u001b[0;34m)\u001b[0m\u001b[0;34m\u001b[0m\u001b[0m\n",
      "\u001b[0;32m/Library/Python/2.7/site-packages/pandas/core/internals.pyc\u001b[0m in \u001b[0;36m__init__\u001b[0;34m(self, block, axis, do_integrity_check, fastpath)\u001b[0m\n\u001b[1;32m   3750\u001b[0m         \u001b[0;32mif\u001b[0m \u001b[0;32mnot\u001b[0m \u001b[0misinstance\u001b[0m\u001b[0;34m(\u001b[0m\u001b[0mblock\u001b[0m\u001b[0;34m,\u001b[0m \u001b[0mBlock\u001b[0m\u001b[0;34m)\u001b[0m\u001b[0;34m:\u001b[0m\u001b[0;34m\u001b[0m\u001b[0m\n\u001b[1;32m   3751\u001b[0m             block = make_block(block, placement=slice(0, len(axis)), ndim=1,\n\u001b[0;32m-> 3752\u001b[0;31m                                fastpath=True)\n\u001b[0m\u001b[1;32m   3753\u001b[0m \u001b[0;34m\u001b[0m\u001b[0m\n\u001b[1;32m   3754\u001b[0m         \u001b[0mself\u001b[0m\u001b[0;34m.\u001b[0m\u001b[0mblocks\u001b[0m \u001b[0;34m=\u001b[0m \u001b[0;34m[\u001b[0m\u001b[0mblock\u001b[0m\u001b[0;34m]\u001b[0m\u001b[0;34m\u001b[0m\u001b[0m\n",
      "\u001b[0;32m/Library/Python/2.7/site-packages/pandas/core/internals.pyc\u001b[0m in \u001b[0;36mmake_block\u001b[0;34m(values, placement, klass, ndim, dtype, fastpath)\u001b[0m\n\u001b[1;32m   2459\u001b[0m                      placement=placement, dtype=dtype)\n\u001b[1;32m   2460\u001b[0m \u001b[0;34m\u001b[0m\u001b[0m\n\u001b[0;32m-> 2461\u001b[0;31m     \u001b[0;32mreturn\u001b[0m \u001b[0mklass\u001b[0m\u001b[0;34m(\u001b[0m\u001b[0mvalues\u001b[0m\u001b[0;34m,\u001b[0m \u001b[0mndim\u001b[0m\u001b[0;34m=\u001b[0m\u001b[0mndim\u001b[0m\u001b[0;34m,\u001b[0m \u001b[0mfastpath\u001b[0m\u001b[0;34m=\u001b[0m\u001b[0mfastpath\u001b[0m\u001b[0;34m,\u001b[0m \u001b[0mplacement\u001b[0m\u001b[0;34m=\u001b[0m\u001b[0mplacement\u001b[0m\u001b[0;34m)\u001b[0m\u001b[0;34m\u001b[0m\u001b[0m\n\u001b[0m\u001b[1;32m   2462\u001b[0m \u001b[0;34m\u001b[0m\u001b[0m\n\u001b[1;32m   2463\u001b[0m \u001b[0;31m# TODO: flexible with index=None and/or items=None\u001b[0m\u001b[0;34m\u001b[0m\u001b[0;34m\u001b[0m\u001b[0m\n",
      "\u001b[0;32m/Library/Python/2.7/site-packages/pandas/core/internals.pyc\u001b[0m in \u001b[0;36m__init__\u001b[0;34m(self, values, placement, ndim, fastpath)\u001b[0m\n\u001b[1;32m     82\u001b[0m             raise ValueError('Wrong number of items passed %d, placement '\n\u001b[1;32m     83\u001b[0m                              'implies %d' % (len(self.values),\n\u001b[0;32m---> 84\u001b[0;31m                                              len(self.mgr_locs)))\n\u001b[0m\u001b[1;32m     85\u001b[0m \u001b[0;34m\u001b[0m\u001b[0m\n\u001b[1;32m     86\u001b[0m     \u001b[0;34m@\u001b[0m\u001b[0mproperty\u001b[0m\u001b[0;34m\u001b[0m\u001b[0m\n",
      "\u001b[0;31mValueError\u001b[0m: Wrong number of items passed 13962, placement implies 13966"
     ]
    }
   ],
   "source": [
    "def getOrderedWords(givenPCInd):\n",
    "    #helper that gets a list of ordered words from highest to lowest based on a particular\n",
    "    #principal component\n",
    "    givenPC = pd.Series(languagePCA.components_[givenPCInd,:],index = languageFrame.columns)\n",
    "    givenPC = givenPC.sort_values(ascending = False)\n",
    "    return list(givenPC.index)\n",
    "consideredPCs = [71,46,79,10] #list of PCs we care about\n",
    "wordArray = [getOrderedWords(i) for i in consideredPCs]\n",
    "colNameArray = [(\"PC \" + str(i)) for i in consideredPCs]\n",
    "wordFrame = pd.DataFrame(np.array(wordArray).T,columns = colNameArray)\n",
    "display(wordFrame)\n",
    "printmd(\"Table 5: Our four principal components with the highest coefficients from our \"\n",
    "       + \"regression, with the words ordered from highest to lowest weight in the given \"\n",
    "       + \"principal component.\")"
   ]
  },
  {
   "cell_type": "markdown",
   "metadata": {},
   "source": [
    "I am personally finding it difficult to interpret these four principal components, although I would be very interested in recieving some potential candidate interpretation in the feedback on this notebook.\n",
    "\n",
    "Given that we are generally seeing principal components that do not seem to have very meaningful or interpretable predictive power, I think we should simply consider a regression on the raw TF-IDF encodings of our variables along with our encoding for company response.\n",
    "\n",
    "#### $L_1$ Logistic Regression\n",
    "\n",
    "To initially select relevant features from our raw TF-IDF encoding appended with company response dummy variables, We will perform an $L_1$ logistic regression and analyze the variables that are given non-zero coefficients."
   ]
  },
  {
   "cell_type": "code",
   "execution_count": 18,
   "metadata": {
    "collapsed": false
   },
   "outputs": [
    {
     "name": "stdout",
     "output_type": "stream",
     "text": [
      "Closed\n",
      "Closed with explanation\n",
      "Closed with monetary relief\n",
      "Closed with non-monetary relief\n"
     ]
    }
   ],
   "source": [
    "appendedLangFrame = languageFrame\n",
    "#add company response to this appended language frame\n",
    "for i in xrange(len(np.unique(encodedCompanyResponseSeries)) - 1): #leave one out for\n",
    "    #dummy variables\n",
    "    companyLev = np.unique(encodedCompanyResponseSeries)[i]\n",
    "    appendedLangFrame[companyResponseEncoding.classes_[companyLev]] = 0\n",
    "    print companyResponseEncoding.classes_[companyLev]\n",
    "    appendedLangFrame.loc[encodedCompanyResponseSeries == companyLev,\n",
    "                         companyResponseEncoding.classes_[companyLev]] = 1"
   ]
  },
  {
   "cell_type": "code",
   "execution_count": 19,
   "metadata": {
    "collapsed": false
   },
   "outputs": [
    {
     "data": {
      "text/plain": [
       "LogisticRegression(C=1.0, class_weight=None, dual=False, fit_intercept=True,\n",
       "          intercept_scaling=1, max_iter=100, multi_class='ovr', n_jobs=1,\n",
       "          penalty='l1', random_state=None, solver='liblinear', tol=0.0001,\n",
       "          verbose=0, warm_start=False)"
      ]
     },
     "execution_count": 19,
     "metadata": {},
     "output_type": "execute_result"
    }
   ],
   "source": [
    "#then perform our logistic regression\n",
    "absRegularLogMod = linear_model.LogisticRegression(penalty = 'l1')\n",
    "absRegularLogMod.fit(appendedLangFrame,encodedDisputeSeries)"
   ]
  },
  {
   "cell_type": "code",
   "execution_count": 21,
   "metadata": {
    "collapsed": false
   },
   "outputs": [
    {
     "data": {
      "text/markdown": [
       "Our current accuracy on the full dataset with the $L_2$ logistic regression is $0.77$."
      ],
      "text/plain": [
       "<IPython.core.display.Markdown object>"
      ]
     },
     "metadata": {},
     "output_type": "display_data"
    }
   ],
   "source": [
    "#check fit\n",
    "currentAccuracy = metrics.accuracy_score(encodedDisputeSeries,\n",
    "                             absRegularLogMod.predict(appendedLangFrame))\n",
    "printmd(\"Our current accuracy on the full dataset with the $L_1$ logistic regression is $\"\n",
    "       + str(np.round(currentAccuracy,2)) + \"$.\")"
   ]
  },
  {
   "cell_type": "markdown",
   "metadata": {},
   "source": [
    "Interesting, we are performing about as well with this model as we were performing with our $L_2$ regression on the principal components. That being said, this regression has a much more reasonable interpretability than our principal component-based $L_2$ regression.\n",
    "\n",
    "Let us see how many of our coefficients have been assigned non-zero coefficients within the $L_1$ regression as well as observe the top $15$ coefficients in terms of their absolute value."
   ]
  },
  {
   "cell_type": "code",
   "execution_count": 26,
   "metadata": {
    "collapsed": false
   },
   "outputs": [
    {
     "data": {
      "text/html": [
       "<div>\n",
       "<table border=\"1\" class=\"dataframe\">\n",
       "  <thead>\n",
       "    <tr style=\"text-align: right;\">\n",
       "      <th></th>\n",
       "      <th>Coefficient</th>\n",
       "      <th>Absolute Coefficient</th>\n",
       "    </tr>\n",
       "  </thead>\n",
       "  <tbody>\n",
       "    <tr>\n",
       "      <th>boat</th>\n",
       "      <td>3.988623</td>\n",
       "      <td>3.988623</td>\n",
       "    </tr>\n",
       "    <tr>\n",
       "      <th>tracing</th>\n",
       "      <td>3.789147</td>\n",
       "      <td>3.789147</td>\n",
       "    </tr>\n",
       "    <tr>\n",
       "      <th>oracle</th>\n",
       "      <td>3.757609</td>\n",
       "      <td>3.757609</td>\n",
       "    </tr>\n",
       "    <tr>\n",
       "      <th>Closed</th>\n",
       "      <td>3.507975</td>\n",
       "      <td>3.507975</td>\n",
       "    </tr>\n",
       "    <tr>\n",
       "      <th>Closed with explanation</th>\n",
       "      <td>3.267797</td>\n",
       "      <td>3.267797</td>\n",
       "    </tr>\n",
       "    <tr>\n",
       "      <th>condor</th>\n",
       "      <td>3.150351</td>\n",
       "      <td>3.150351</td>\n",
       "    </tr>\n",
       "    <tr>\n",
       "      <th>boarding</th>\n",
       "      <td>2.976690</td>\n",
       "      <td>2.976690</td>\n",
       "    </tr>\n",
       "    <tr>\n",
       "      <th>speaker</th>\n",
       "      <td>2.906657</td>\n",
       "      <td>2.906657</td>\n",
       "    </tr>\n",
       "    <tr>\n",
       "      <th>insecure</th>\n",
       "      <td>2.883361</td>\n",
       "      <td>2.883361</td>\n",
       "    </tr>\n",
       "    <tr>\n",
       "      <th>phony</th>\n",
       "      <td>2.852108</td>\n",
       "      <td>2.852108</td>\n",
       "    </tr>\n",
       "    <tr>\n",
       "      <th>earner</th>\n",
       "      <td>2.840631</td>\n",
       "      <td>2.840631</td>\n",
       "    </tr>\n",
       "    <tr>\n",
       "      <th>southern</th>\n",
       "      <td>2.740127</td>\n",
       "      <td>2.740127</td>\n",
       "    </tr>\n",
       "    <tr>\n",
       "      <th>usury</th>\n",
       "      <td>2.685500</td>\n",
       "      <td>2.685500</td>\n",
       "    </tr>\n",
       "    <tr>\n",
       "      <th>violation</th>\n",
       "      <td>2.663650</td>\n",
       "      <td>2.663650</td>\n",
       "    </tr>\n",
       "    <tr>\n",
       "      <th>extending</th>\n",
       "      <td>-2.567595</td>\n",
       "      <td>2.567595</td>\n",
       "    </tr>\n",
       "  </tbody>\n",
       "</table>\n",
       "</div>"
      ],
      "text/plain": [
       "                         Coefficient  Absolute Coefficient\n",
       "boat                        3.988623              3.988623\n",
       "tracing                     3.789147              3.789147\n",
       "oracle                      3.757609              3.757609\n",
       "Closed                      3.507975              3.507975\n",
       "Closed with explanation     3.267797              3.267797\n",
       "condor                      3.150351              3.150351\n",
       "boarding                    2.976690              2.976690\n",
       "speaker                     2.906657              2.906657\n",
       "insecure                    2.883361              2.883361\n",
       "phony                       2.852108              2.852108\n",
       "earner                      2.840631              2.840631\n",
       "southern                    2.740127              2.740127\n",
       "usury                       2.685500              2.685500\n",
       "violation                   2.663650              2.663650\n",
       "extending                  -2.567595              2.567595"
      ]
     },
     "metadata": {},
     "output_type": "display_data"
    },
    {
     "data": {
      "text/markdown": [
       "_Table 6: Top $15$ coefficients of our $L_1$ logistic regression in terms of absolute value._"
      ],
      "text/plain": [
       "<IPython.core.display.Markdown object>"
      ]
     },
     "metadata": {},
     "output_type": "display_data"
    },
    {
     "data": {
      "text/markdown": [
       "There are $1482$ variables with non-zero coefficients, or $10.61\\%$ of our features."
      ],
      "text/plain": [
       "<IPython.core.display.Markdown object>"
      ]
     },
     "metadata": {},
     "output_type": "display_data"
    }
   ],
   "source": [
    "coefSeries = pd.Series(absRegularLogMod.coef_[0],index = appendedLangFrame.columns)\n",
    "coefFrame = pd.DataFrame()\n",
    "coefFrame[\"Coefficient\"] = coefSeries\n",
    "coefFrame[\"Absolute Coefficient\"] = np.abs(coefFrame[\"Coefficient\"])\n",
    "numNonZero = coefFrame[coefFrame[\"Coefficient\"] != 0].shape[0]\n",
    "propNonZero = float(numNonZero) / coefFrame.shape[0]\n",
    "#then order it\n",
    "maxNum = 15\n",
    "coefFrame = coefFrame.sort_values(\"Absolute Coefficient\",ascending = False)\n",
    "topFifteenCoeffs = coefFrame.iloc[0:maxNum,:]\n",
    "display(topFifteenCoeffs)\n",
    "printmd(\"_Table 6: Top $\" + str(maxNum) + \"$ coefficients of our $L_1$ logistic regression\"\n",
    "        + \" in terms of absolute value._\")\n",
    "printmd(\"There are $\" + str(np.round(numNonZero,2)) + \"$ variables with non-zero \"\n",
    "        + \"coefficients, or $\" + str(np.round(propNonZero * 100,2)) + \"\\%$ of our features.\")"
   ]
  },
  {
   "cell_type": "markdown",
   "metadata": {},
   "source": [
    "While these are slightly more variables than the $800$ randomized principal components that we were originally considering, this number of variables is much more reasonable to deal with than over $10000$ variables. Thus, for now, we will select these variables as we progress with our initial models."
   ]
  },
  {
   "cell_type": "code",
   "execution_count": 29,
   "metadata": {
    "collapsed": false
   },
   "outputs": [],
   "source": [
    "coefNonZeroFrame = coefFrame[coefFrame[\"Coefficient\"] != 0]\n",
    "reducLangFrame = appendedLangFrame.loc[:,coefNonZeroFrame.index]"
   ]
  },
  {
   "cell_type": "markdown",
   "metadata": {},
   "source": [
    "With this new reduced set of variables, let us see how these variables perform in an $L_2$ logistic regression."
   ]
  },
  {
   "cell_type": "code",
   "execution_count": 30,
   "metadata": {
    "collapsed": false
   },
   "outputs": [
    {
     "data": {
      "text/plain": [
       "LogisticRegression(C=1.0, class_weight=None, dual=False, fit_intercept=True,\n",
       "          intercept_scaling=1, max_iter=100, multi_class='ovr', n_jobs=1,\n",
       "          penalty='l2', random_state=None, solver='liblinear', tol=0.0001,\n",
       "          verbose=0, warm_start=False)"
      ]
     },
     "execution_count": 30,
     "metadata": {},
     "output_type": "execute_result"
    }
   ],
   "source": [
    "newLogMod = linear_model.LogisticRegression(penalty = 'l2')\n",
    "newLogMod.fit(reducLangFrame,encodedDisputeSeries)"
   ]
  },
  {
   "cell_type": "code",
   "execution_count": 31,
   "metadata": {
    "collapsed": false
   },
   "outputs": [
    {
     "data": {
      "text/markdown": [
       "Our current accuracy on the full dataset with the $L_1$ logistic regression is $0.77$."
      ],
      "text/plain": [
       "<IPython.core.display.Markdown object>"
      ]
     },
     "metadata": {},
     "output_type": "display_data"
    }
   ],
   "source": [
    "currentAccuracy = metrics.accuracy_score(encodedDisputeSeries,\n",
    "                             newLogMod.predict(reducLangFrame))\n",
    "printmd(\"Our current accuracy on the full dataset with the $L_2$ logistic regression is $\"\n",
    "       + str(np.round(currentAccuracy,2)) + \"$.\")"
   ]
  },
  {
   "cell_type": "markdown",
   "metadata": {},
   "source": [
    "We are still not making progress on accuracy, which suggests that we may need to do a lot of diagnostic work to find potentially a better logistic model as well as consider other nonlinear methods.\n",
    "\n",
    "For now, let us look at the confusion matrix for this model."
   ]
  },
  {
   "cell_type": "code",
   "execution_count": 60,
   "metadata": {
    "collapsed": false
   },
   "outputs": [
    {
     "data": {
      "text/html": [
       "<div>\n",
       "<table border=\"1\" class=\"dataframe\">\n",
       "  <thead>\n",
       "    <tr style=\"text-align: right;\">\n",
       "      <th></th>\n",
       "      <th>Predicted 0</th>\n",
       "      <th>Predicted 1</th>\n",
       "    </tr>\n",
       "  </thead>\n",
       "  <tbody>\n",
       "    <tr>\n",
       "      <th>Actually 0</th>\n",
       "      <td>50629</td>\n",
       "      <td>600</td>\n",
       "    </tr>\n",
       "    <tr>\n",
       "      <th>Actually 1</th>\n",
       "      <td>14477</td>\n",
       "      <td>1100</td>\n",
       "    </tr>\n",
       "  </tbody>\n",
       "</table>\n",
       "</div>"
      ],
      "text/plain": [
       "            Predicted 0  Predicted 1\n",
       "Actually 0        50629          600\n",
       "Actually 1        14477         1100"
      ]
     },
     "metadata": {},
     "output_type": "display_data"
    },
    {
     "data": {
      "text/markdown": [
       "Table 7: Our confusion matrix for the $L_2$ logistic regression over our $L_1$-reduced variables."
      ],
      "text/plain": [
       "<IPython.core.display.Markdown object>"
      ]
     },
     "metadata": {},
     "output_type": "display_data"
    }
   ],
   "source": [
    "confusionMatrix = pd.DataFrame([[0,0],[0,0]],index = [\"Actually 0\",\"Actually 1\"],\n",
    "                                             columns = [\"Predicted 0\",\"Predicted 1\"])\n",
    "predictedOutcomes = newLogMod.predict(reducLangFrame)\n",
    "outcomeArray = pd.DataFrame(np.array([encodedDisputeSeries,predictedOutcomes]).T,\n",
    "                            columns = [\"Actual\",\"Predicted\"])\n",
    "#then add our information\n",
    "for i in xrange(2):\n",
    "    for j in xrange(2):\n",
    "        #subset our outcomes\n",
    "        subsettedOutcomeArray = outcomeArray.loc[outcomeArray.iloc[:,0] == i,:]\n",
    "        subsettedOutcomeArray = subsettedOutcomeArray.loc[\n",
    "                                        subsettedOutcomeArray.iloc[:,1] == j,:]\n",
    "        #then get the shape of these outcomes\n",
    "        confusionMatrix.iloc[i,j] = subsettedOutcomeArray.shape[0]\n",
    "display(confusionMatrix)\n",
    "printmd(\"Table 7: Our confusion matrix for the $L_2$ logistic regression over our $L_1$-\"\n",
    "       + \"reduced variables.\")\n"
   ]
  },
  {
   "cell_type": "markdown",
   "metadata": {},
   "source": [
    "We can see that we currently have a very high false negative rate, which accounts for around $21.67\\%$ of our predictions. This suggests that we may need to do more to increase the ability to predict disputes."
   ]
  },
  {
   "cell_type": "markdown",
   "metadata": {},
   "source": [
    "TODO:\n",
    "\n",
    "* Fix Color Scheme For Figure 4\n",
    "\n",
    "* Fix $x$-ticks on Figure 2"
   ]
  },
  {
   "cell_type": "code",
   "execution_count": 52,
   "metadata": {
    "collapsed": false
   },
   "outputs": [
    {
     "name": "stdout",
     "output_type": "stream",
     "text": [
      "Help on built-in function where in module numpy.core.multiarray:\n",
      "\n",
      "where(...)\n",
      "    where(condition, [x, y])\n",
      "    \n",
      "    Return elements, either from `x` or `y`, depending on `condition`.\n",
      "    \n",
      "    If only `condition` is given, return ``condition.nonzero()``.\n",
      "    \n",
      "    Parameters\n",
      "    ----------\n",
      "    condition : array_like, bool\n",
      "        When True, yield `x`, otherwise yield `y`.\n",
      "    x, y : array_like, optional\n",
      "        Values from which to choose. `x` and `y` need to have the same\n",
      "        shape as `condition`.\n",
      "    \n",
      "    Returns\n",
      "    -------\n",
      "    out : ndarray or tuple of ndarrays\n",
      "        If both `x` and `y` are specified, the output array contains\n",
      "        elements of `x` where `condition` is True, and elements from\n",
      "        `y` elsewhere.\n",
      "    \n",
      "        If only `condition` is given, return the tuple\n",
      "        ``condition.nonzero()``, the indices where `condition` is True.\n",
      "    \n",
      "    See Also\n",
      "    --------\n",
      "    nonzero, choose\n",
      "    \n",
      "    Notes\n",
      "    -----\n",
      "    If `x` and `y` are given and input arrays are 1-D, `where` is\n",
      "    equivalent to::\n",
      "    \n",
      "        [xv if c else yv for (c,xv,yv) in zip(condition,x,y)]\n",
      "    \n",
      "    Examples\n",
      "    --------\n",
      "    >>> np.where([[True, False], [True, True]],\n",
      "    ...          [[1, 2], [3, 4]],\n",
      "    ...          [[9, 8], [7, 6]])\n",
      "    array([[1, 8],\n",
      "           [3, 4]])\n",
      "    \n",
      "    >>> np.where([[0, 1], [1, 0]])\n",
      "    (array([0, 1]), array([1, 0]))\n",
      "    \n",
      "    >>> x = np.arange(9.).reshape(3, 3)\n",
      "    >>> np.where( x > 5 )\n",
      "    (array([2, 2, 2]), array([0, 1, 2]))\n",
      "    >>> x[np.where( x > 3.0 )]               # Note: result is 1D.\n",
      "    array([ 4.,  5.,  6.,  7.,  8.])\n",
      "    >>> np.where(x < 5, x, -1)               # Note: broadcasting.\n",
      "    array([[ 0.,  1.,  2.],\n",
      "           [ 3.,  4., -1.],\n",
      "           [-1., -1., -1.]])\n",
      "    \n",
      "    Find the indices of elements of `x` that are in `goodvalues`.\n",
      "    \n",
      "    >>> goodvalues = [3, 4, 7]\n",
      "    >>> ix = np.in1d(x.ravel(), goodvalues).reshape(x.shape)\n",
      "    >>> ix\n",
      "    array([[False, False, False],\n",
      "           [ True,  True, False],\n",
      "           [False,  True, False]], dtype=bool)\n",
      "    >>> np.where(ix)\n",
      "    (array([1, 1, 2]), array([0, 1, 1]))\n",
      "\n"
     ]
    }
   ],
   "source": [
    "help(np.where)"
   ]
  },
  {
   "cell_type": "code",
   "execution_count": null,
   "metadata": {
    "collapsed": true
   },
   "outputs": [],
   "source": []
  }
 ],
 "metadata": {
  "kernelspec": {
   "display_name": "Python 2",
   "language": "python",
   "name": "python2"
  },
  "language_info": {
   "codemirror_mode": {
    "name": "ipython",
    "version": 2
   },
   "file_extension": ".py",
   "mimetype": "text/x-python",
   "name": "python",
   "nbconvert_exporter": "python",
   "pygments_lexer": "ipython2",
   "version": "2.7.10"
  }
 },
 "nbformat": 4,
 "nbformat_minor": 0
}
